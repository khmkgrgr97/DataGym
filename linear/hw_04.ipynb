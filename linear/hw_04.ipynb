{
 "cells": [
  {
   "cell_type": "markdown",
   "metadata": {},
   "source": [
    "### HomeWork №4"
   ]
  },
  {
   "cell_type": "code",
   "execution_count": 1,
   "metadata": {},
   "outputs": [],
   "source": [
    "import pandas as pd\n",
    "import numpy as np\n",
    "from sklearn.tree import DecisionTreeRegressor\n",
    "from sklearn.metrics import mean_squared_log_error\n",
    "from sklearn.linear_model import Lasso\n",
    "from sklearn.model_selection import train_test_split\n",
    "from sklearn.utils import shuffle"
   ]
  },
  {
   "cell_type": "markdown",
   "metadata": {},
   "source": [
    "Загружаем обучающую выборку:"
   ]
  },
  {
   "cell_type": "code",
   "execution_count": 2,
   "metadata": {},
   "outputs": [],
   "source": [
    "df = pd.read_csv('train-2.csv', sep=',') "
   ]
  },
  {
   "cell_type": "markdown",
   "metadata": {},
   "source": [
    "Посмотрим на данные:"
   ]
  },
  {
   "cell_type": "code",
   "execution_count": 3,
   "metadata": {
    "scrolled": false
   },
   "outputs": [
    {
     "data": {
      "text/html": [
       "<div>\n",
       "<style scoped>\n",
       "    .dataframe tbody tr th:only-of-type {\n",
       "        vertical-align: middle;\n",
       "    }\n",
       "\n",
       "    .dataframe tbody tr th {\n",
       "        vertical-align: top;\n",
       "    }\n",
       "\n",
       "    .dataframe thead th {\n",
       "        text-align: right;\n",
       "    }\n",
       "</style>\n",
       "<table border=\"1\" class=\"dataframe\">\n",
       "  <thead>\n",
       "    <tr style=\"text-align: right;\">\n",
       "      <th></th>\n",
       "      <th>house_id</th>\n",
       "      <th>dt</th>\n",
       "      <th>n_bedrooms</th>\n",
       "      <th>n_bathrooms</th>\n",
       "      <th>n_floors</th>\n",
       "      <th>S_above</th>\n",
       "      <th>S_basement</th>\n",
       "      <th>S_living</th>\n",
       "      <th>S_lot</th>\n",
       "      <th>lat</th>\n",
       "      <th>long</th>\n",
       "      <th>year_built</th>\n",
       "      <th>status</th>\n",
       "      <th>price_target</th>\n",
       "    </tr>\n",
       "  </thead>\n",
       "  <tbody>\n",
       "    <tr>\n",
       "      <th>0</th>\n",
       "      <td>101826</td>\n",
       "      <td>2014-07-17</td>\n",
       "      <td>2</td>\n",
       "      <td>1.75</td>\n",
       "      <td>1.5</td>\n",
       "      <td>1740</td>\n",
       "      <td>0</td>\n",
       "      <td>1740</td>\n",
       "      <td>6620</td>\n",
       "      <td>47.5260</td>\n",
       "      <td>-121.828</td>\n",
       "      <td>2002</td>\n",
       "      <td>3</td>\n",
       "      <td>350000.0</td>\n",
       "    </tr>\n",
       "    <tr>\n",
       "      <th>1</th>\n",
       "      <td>105715</td>\n",
       "      <td>2015-04-21</td>\n",
       "      <td>2</td>\n",
       "      <td>1.00</td>\n",
       "      <td>1.5</td>\n",
       "      <td>1090</td>\n",
       "      <td>0</td>\n",
       "      <td>1090</td>\n",
       "      <td>5265</td>\n",
       "      <td>47.6638</td>\n",
       "      <td>-122.292</td>\n",
       "      <td>1947</td>\n",
       "      <td>4</td>\n",
       "      <td>577000.0</td>\n",
       "    </tr>\n",
       "    <tr>\n",
       "      <th>2</th>\n",
       "      <td>118631</td>\n",
       "      <td>2014-09-26</td>\n",
       "      <td>3</td>\n",
       "      <td>2.00</td>\n",
       "      <td>1.0</td>\n",
       "      <td>1310</td>\n",
       "      <td>0</td>\n",
       "      <td>1310</td>\n",
       "      <td>7000</td>\n",
       "      <td>47.3030</td>\n",
       "      <td>-122.383</td>\n",
       "      <td>1979</td>\n",
       "      <td>4</td>\n",
       "      <td>196500.0</td>\n",
       "    </tr>\n",
       "    <tr>\n",
       "      <th>3</th>\n",
       "      <td>116653</td>\n",
       "      <td>2014-05-02</td>\n",
       "      <td>3</td>\n",
       "      <td>2.50</td>\n",
       "      <td>3.0</td>\n",
       "      <td>1600</td>\n",
       "      <td>170</td>\n",
       "      <td>1770</td>\n",
       "      <td>1235</td>\n",
       "      <td>47.6965</td>\n",
       "      <td>-122.342</td>\n",
       "      <td>2007</td>\n",
       "      <td>3</td>\n",
       "      <td>436110.0</td>\n",
       "    </tr>\n",
       "    <tr>\n",
       "      <th>4</th>\n",
       "      <td>119014</td>\n",
       "      <td>2015-03-12</td>\n",
       "      <td>3</td>\n",
       "      <td>3.25</td>\n",
       "      <td>2.0</td>\n",
       "      <td>1090</td>\n",
       "      <td>190</td>\n",
       "      <td>1280</td>\n",
       "      <td>1730</td>\n",
       "      <td>47.7032</td>\n",
       "      <td>-122.360</td>\n",
       "      <td>2005</td>\n",
       "      <td>3</td>\n",
       "      <td>375000.0</td>\n",
       "    </tr>\n",
       "  </tbody>\n",
       "</table>\n",
       "</div>"
      ],
      "text/plain": [
       "   house_id          dt  n_bedrooms  n_bathrooms  n_floors  S_above  \\\n",
       "0    101826  2014-07-17           2         1.75       1.5     1740   \n",
       "1    105715  2015-04-21           2         1.00       1.5     1090   \n",
       "2    118631  2014-09-26           3         2.00       1.0     1310   \n",
       "3    116653  2014-05-02           3         2.50       3.0     1600   \n",
       "4    119014  2015-03-12           3         3.25       2.0     1090   \n",
       "\n",
       "   S_basement  S_living  S_lot      lat     long  year_built  status  \\\n",
       "0           0      1740   6620  47.5260 -121.828        2002       3   \n",
       "1           0      1090   5265  47.6638 -122.292        1947       4   \n",
       "2           0      1310   7000  47.3030 -122.383        1979       4   \n",
       "3         170      1770   1235  47.6965 -122.342        2007       3   \n",
       "4         190      1280   1730  47.7032 -122.360        2005       3   \n",
       "\n",
       "   price_target  \n",
       "0      350000.0  \n",
       "1      577000.0  \n",
       "2      196500.0  \n",
       "3      436110.0  \n",
       "4      375000.0  "
      ]
     },
     "execution_count": 3,
     "metadata": {},
     "output_type": "execute_result"
    }
   ],
   "source": [
    "df.head(5)"
   ]
  },
  {
   "cell_type": "code",
   "execution_count": 4,
   "metadata": {
    "scrolled": true
   },
   "outputs": [
    {
     "data": {
      "text/plain": [
       "house_id       0.001084\n",
       "n_bedrooms     0.293582\n",
       "n_bathrooms    0.510839\n",
       "n_floors       0.260451\n",
       "S_above        0.610043\n",
       "S_basement     0.298052\n",
       "S_living       0.699083\n",
       "S_lot          0.095665\n",
       "lat            0.311153\n",
       "long           0.026974\n",
       "year_built     0.058516\n",
       "status         0.032604\n",
       "dtype: float64"
      ]
     },
     "execution_count": 4,
     "metadata": {},
     "output_type": "execute_result"
    }
   ],
   "source": [
    "df[df.columns[:-1]].corrwith(df[\"price_target\"])"
   ]
  },
  {
   "cell_type": "code",
   "execution_count": 5,
   "metadata": {},
   "outputs": [],
   "source": [
    "df_bomb = df[list(('house_id', 'S_living', 'lat', 'price_target'))]\n",
    "X = df_bomb[list(('S_living', 'lat'))]\n",
    "y = df_bomb['price_target']"
   ]
  },
  {
   "cell_type": "code",
   "execution_count": 6,
   "metadata": {},
   "outputs": [],
   "source": [
    "(X_train, X_test,\n",
    " y_train, y_test) = train_test_split(X, y, \n",
    "                                     test_size=0.3, \n",
    "                                     random_state=0)"
   ]
  },
  {
   "cell_type": "code",
   "execution_count": 7,
   "metadata": {
    "scrolled": true
   },
   "outputs": [
    {
     "name": "stderr",
     "output_type": "stream",
     "text": [
      "/home/jupyter/jupyter/lib/python3.6/site-packages/ipykernel_launcher.py:2: SettingWithCopyWarning: \n",
      "A value is trying to be set on a copy of a slice from a DataFrame.\n",
      "Try using .loc[row_indexer,col_indexer] = value instead\n",
      "\n",
      "See the caveats in the documentation: http://pandas.pydata.org/pandas-docs/stable/user_guide/indexing.html#returning-a-view-versus-a-copy\n",
      "  \n",
      "/home/jupyter/jupyter/lib/python3.6/site-packages/ipykernel_launcher.py:3: SettingWithCopyWarning: \n",
      "A value is trying to be set on a copy of a slice from a DataFrame.\n",
      "Try using .loc[row_indexer,col_indexer] = value instead\n",
      "\n",
      "See the caveats in the documentation: http://pandas.pydata.org/pandas-docs/stable/user_guide/indexing.html#returning-a-view-versus-a-copy\n",
      "  This is separate from the ipykernel package so we can avoid doing imports until\n",
      "/home/jupyter/jupyter/lib/python3.6/site-packages/ipykernel_launcher.py:4: SettingWithCopyWarning: \n",
      "A value is trying to be set on a copy of a slice from a DataFrame.\n",
      "Try using .loc[row_indexer,col_indexer] = value instead\n",
      "\n",
      "See the caveats in the documentation: http://pandas.pydata.org/pandas-docs/stable/user_guide/indexing.html#returning-a-view-versus-a-copy\n",
      "  after removing the cwd from sys.path.\n",
      "/home/jupyter/jupyter/lib/python3.6/site-packages/ipykernel_launcher.py:5: SettingWithCopyWarning: \n",
      "A value is trying to be set on a copy of a slice from a DataFrame.\n",
      "Try using .loc[row_indexer,col_indexer] = value instead\n",
      "\n",
      "See the caveats in the documentation: http://pandas.pydata.org/pandas-docs/stable/user_guide/indexing.html#returning-a-view-versus-a-copy\n",
      "  \"\"\"\n"
     ]
    }
   ],
   "source": [
    "y_train = np.log(y_train)\n",
    "X_test['S_living'] = X_test['S_living'].map(lambda s: np.log(s))\n",
    "X_test['lat'] = X_test['lat'].map(lambda s: np.log(s))\n",
    "X_train['S_living'] = X_train['S_living'].map(lambda s: np.log(s))\n",
    "X_train['lat'] = X_train['lat'].map(lambda s: np.log(s))"
   ]
  },
  {
   "cell_type": "code",
   "execution_count": 8,
   "metadata": {},
   "outputs": [],
   "source": [
    "def RMSLE(y_test, predictions):\n",
    "    return np.sqrt(mean_squared_log_error(y_test, predictions))"
   ]
  },
  {
   "cell_type": "code",
   "execution_count": 9,
   "metadata": {
    "scrolled": true
   },
   "outputs": [
    {
     "name": "stdout",
     "output_type": "stream",
     "text": [
      "0.4356554423550114 1 49\n",
      "0.3495919042672864 2 49\n",
      "0.3094950780963547 3 49\n",
      "0.288098103996494 4 49\n",
      "0.271519774573584 5 49\n",
      "0.26523900694638336 6 49\n",
      "0.26143674785063975 7 49\n",
      "0.25937995522875995 8 49\n",
      "0.258913392131125 9 49\n",
      "0.2587154516623659 10 49\n",
      "0.25867843460518297 11 49\n",
      "0.25867843460518314 12 49\n",
      "0.2586784346051831 13 49\n",
      "0.25867843460518314 14 49\n",
      "0.258678434605183 15 49\n",
      "0.2586784346051832 16 49\n",
      "0.2586784346051831 17 49\n",
      "0.2586784346051831 18 49\n",
      "0.2586784346051831 19 49\n",
      "0.2586784346051832 20 49\n",
      "0.2586784346051831 21 49\n",
      "0.25867843460518314 22 49\n",
      "0.2586784346051831 23 49\n",
      "0.25867843460518314 24 49\n",
      "0.2586784346051832 25 49\n",
      "0.25867843460518314 26 49\n",
      "0.258678434605183 27 49\n",
      "0.258678434605183 28 49\n",
      "0.258678434605183 29 49\n",
      "0.25867843460518314 30 49\n",
      "0.258678434605183 31 49\n",
      "0.25867843460518314 32 49\n",
      "0.2586784346051831 33 49\n",
      "0.258678434605183 34 49\n",
      "0.258678434605183 35 49\n",
      "0.258678434605183 36 49\n",
      "0.25867843460518314 37 49\n",
      "0.2586784346051831 38 49\n",
      "0.2586784346051831 39 49\n",
      "0.2586784346051831 40 49\n",
      "0.258678434605183 41 49\n",
      "0.25867843460518314 42 49\n",
      "0.25867843460518314 43 49\n",
      "0.2586784346051832 44 49\n",
      "0.2586784346051831 45 49\n",
      "0.2586784346051831 46 49\n",
      "0.2586784346051831 47 49\n",
      "0.2586784346051832 48 49\n",
      "0.2586784346051831 49 49\n",
      "alpha= 11 betta= 49 0.25867843460518297\n"
     ]
    }
   ],
   "source": [
    "# лучшая ячейка\n",
    "alphas = np.arange(1, 50, 1)\n",
    "bettas = np.arange(1, 50, 1)\n",
    "best_alpha = -1\n",
    "best_betta = -1\n",
    "rmsleee_min = 10000\n",
    "for j in alphas:\n",
    "    for o in bettas:\n",
    "        tree_final = DecisionTreeRegressor(max_depth=j, min_samples_leaf=o)\n",
    "        tree_final.fit(X_train, y_train)\n",
    "        y_hat = tree_final.predict(X_test)\n",
    "        y_hat = np.exp(y_hat)\n",
    "        #predictions.append(y_hat[i])\n",
    "        #if y_hat[i] < 0: \n",
    "           # predictions.append(0)\n",
    "        #else: predictions.append(y_hat[i])\n",
    "                #predictions.append(y_hat[i])\n",
    "    if RMSLE(y_test, y_hat) < rmsleee_min:\n",
    "        rmsleee_min = RMSLE(y_test, y_hat)\n",
    "        best_alpha = j\n",
    "        best_betta = o\n",
    "    print (RMSLE(y_test, y_hat), j, o)\n",
    "    \n",
    "print ('alpha=', best_alpha, 'betta=', best_betta, rmsleee_min)\n",
    "\n",
    "#0.31810574486158216 0 - регрессия\n",
    "# 0.2919603374280108 6 - KNN (n_neighbors=j, weights='uniform',\n",
    "                           #metric='euclidean')\n",
    "    # 21 0.28389 KNeighborsRegressor(n_neighbors=21, weights='distance',\n",
    "                          # metric='canberra')\n",
    "        #linear_regressor = DecisionTreeRegressor(max_depth=j, min_samples_leaf=o)"
   ]
  },
  {
   "cell_type": "code",
   "execution_count": null,
   "metadata": {},
   "outputs": [],
   "source": []
  },
  {
   "cell_type": "code",
   "execution_count": 10,
   "metadata": {},
   "outputs": [
    {
     "name": "stderr",
     "output_type": "stream",
     "text": [
      "/home/jupyter/jupyter/lib/python3.6/site-packages/ipykernel_launcher.py:1: SettingWithCopyWarning: \n",
      "A value is trying to be set on a copy of a slice from a DataFrame.\n",
      "Try using .loc[row_indexer,col_indexer] = value instead\n",
      "\n",
      "See the caveats in the documentation: http://pandas.pydata.org/pandas-docs/stable/user_guide/indexing.html#returning-a-view-versus-a-copy\n",
      "  \"\"\"Entry point for launching an IPython kernel.\n",
      "/home/jupyter/jupyter/lib/python3.6/site-packages/ipykernel_launcher.py:2: SettingWithCopyWarning: \n",
      "A value is trying to be set on a copy of a slice from a DataFrame.\n",
      "Try using .loc[row_indexer,col_indexer] = value instead\n",
      "\n",
      "See the caveats in the documentation: http://pandas.pydata.org/pandas-docs/stable/user_guide/indexing.html#returning-a-view-versus-a-copy\n",
      "  \n"
     ]
    }
   ],
   "source": [
    "X['S_living'] = X['S_living'].map(lambda s: np.log(s))\n",
    "X['lat'] = X['lat'].map(lambda s: np.log(s))\n",
    "y = np.log(y)"
   ]
  },
  {
   "cell_type": "code",
   "execution_count": 11,
   "metadata": {},
   "outputs": [],
   "source": [
    "df_test = pd.read_csv('test-2.csv')"
   ]
  },
  {
   "cell_type": "code",
   "execution_count": 12,
   "metadata": {},
   "outputs": [],
   "source": [
    "df_test = df_test[list(('house_id', 'S_living', 'lat'))]"
   ]
  },
  {
   "cell_type": "code",
   "execution_count": 13,
   "metadata": {},
   "outputs": [],
   "source": [
    "X_Test = df_test[list(('S_living', 'lat'))]"
   ]
  },
  {
   "cell_type": "code",
   "execution_count": 14,
   "metadata": {
    "scrolled": true
   },
   "outputs": [
    {
     "name": "stderr",
     "output_type": "stream",
     "text": [
      "/home/jupyter/jupyter/lib/python3.6/site-packages/ipykernel_launcher.py:1: SettingWithCopyWarning: \n",
      "A value is trying to be set on a copy of a slice from a DataFrame.\n",
      "Try using .loc[row_indexer,col_indexer] = value instead\n",
      "\n",
      "See the caveats in the documentation: http://pandas.pydata.org/pandas-docs/stable/user_guide/indexing.html#returning-a-view-versus-a-copy\n",
      "  \"\"\"Entry point for launching an IPython kernel.\n",
      "/home/jupyter/jupyter/lib/python3.6/site-packages/ipykernel_launcher.py:2: SettingWithCopyWarning: \n",
      "A value is trying to be set on a copy of a slice from a DataFrame.\n",
      "Try using .loc[row_indexer,col_indexer] = value instead\n",
      "\n",
      "See the caveats in the documentation: http://pandas.pydata.org/pandas-docs/stable/user_guide/indexing.html#returning-a-view-versus-a-copy\n",
      "  \n"
     ]
    }
   ],
   "source": [
    "X_Test['S_living'] = X_Test['S_living'].map(lambda s: np.log(s))\n",
    "X_Test['lat'] = X_Test['lat'].map(lambda s: np.log(s))"
   ]
  },
  {
   "cell_type": "code",
   "execution_count": 15,
   "metadata": {},
   "outputs": [],
   "source": [
    "tree_final = DecisionTreeRegressor(max_depth=11, min_samples_leaf=49)\n",
    "tree_final.fit(X, y)\n",
    "y_hat = tree_final.predict(X_Test)\n",
    "y_hat = np.exp(y_hat)"
   ]
  },
  {
   "cell_type": "code",
   "execution_count": 17,
   "metadata": {},
   "outputs": [],
   "source": [
    "data = pd.DataFrame(zip(df_test['house_id'], y_hat), \n",
    "                    columns = ['house_id',\n",
    "                               'price_target']).to_csv('predictions3.csv', sep=',', \n",
    "                                                           index=False)"
   ]
  }
 ],
 "metadata": {
  "kernelspec": {
   "display_name": "Python 3",
   "language": "python",
   "name": "python3"
  },
  "language_info": {
   "codemirror_mode": {
    "name": "ipython",
    "version": 3
   },
   "file_extension": ".py",
   "mimetype": "text/x-python",
   "name": "python",
   "nbconvert_exporter": "python",
   "pygments_lexer": "ipython3",
   "version": "3.6.8"
  }
 },
 "nbformat": 4,
 "nbformat_minor": 2
}
