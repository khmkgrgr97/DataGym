{
 "cells": [
  {
   "cell_type": "markdown",
   "metadata": {},
   "source": [
    "<h1><center>DataGym</center></h1>\n",
    "<h3><center>Григорий Хомюк</center></h3>\n",
    "<hr>\n",
    "<h2><center>Курсовая работа</center></h2>\n",
    "<h2><center>Pump it Up: Data Mining the Water Table<center></h2> "
   ]
  },
  {
   "cell_type": "markdown",
   "metadata": {},
   "source": [
    "![Alt text](https://disk.yandex.ru/i/9rMkVbiVwpnAUw)"
   ]
  },
  {
   "cell_type": "markdown",
   "metadata": {},
   "source": [
    "Данная работа основана на соревновании: https://www.drivendata.org/competitions/7/pump-it-up-data-mining-the-water-table/page/23/\n",
    "\n",
    "\n",
    "### Задача: используя данные Таарифы и Министерства водного хозяйства Танзании, предсказать, какие водяные насосы работают, какие требуют ремонта, а какие вообще не работают?\n",
    " "
   ]
  },
  {
   "cell_type": "markdown",
   "metadata": {},
   "source": [
    "##### Метрика качества:  accuracy "
   ]
  },
  {
   "cell_type": "markdown",
   "metadata": {},
   "source": [
    "### data description:"
   ]
  },
  {
   "cell_type": "markdown",
   "metadata": {},
   "source": [
    "`amount_tsh` - Total static head (amount water available to waterpoint)\n",
    "\n",
    "`date_recorded` - The date the row was entered\n",
    "\n",
    "`funder` - Who funded the well\n",
    "\n",
    "`gps_height` - Altitude of the well\n",
    "\n",
    "`installer` - Organization that installed the well\n",
    "\n",
    "`longitude` - GPS coordinate\n",
    "\n",
    "`latitude` - GPS coordinate\n",
    "\n",
    "`wpt_name` - Name of the waterpoint if there is one\n",
    "\n",
    "`num_private` -\n",
    "\n",
    "`basin` - Geographic water basin\n",
    "\n",
    "`subvillage` - Geographic location\n",
    "\n",
    "`region` - Geographic location\n",
    "\n",
    "`region_code` - Geographic location (coded)\n",
    "\n",
    "`district_code` - Geographic location (coded)\n",
    "\n",
    "`lga` - Geographic location\n",
    "\n",
    "`ward` - Geographic location\n",
    "\n",
    "`population` - Population around the well\n",
    "\n",
    "`public_meeting` - True/False\n",
    "\n",
    "`recorded_by` - Group entering this row of data\n",
    "\n",
    "`scheme_management` - Who operates the waterpoint\n",
    "\n",
    "`scheme_name` - Who operates the waterpoint\n",
    "\n",
    "`permit` - If the waterpoint is permitted\n",
    "\n",
    "`construction_year` - Year the waterpoint was constructed\n",
    "\n",
    "`extraction_type` - The kind of extraction the waterpoint uses\n",
    "\n",
    "`extraction_type_group` - The kind of extraction the waterpoint uses\n",
    "\n",
    "`extraction_type_class` - The kind of extraction the waterpoint uses\n",
    "\n",
    "`management` - How the waterpoint is managed\n",
    "\n",
    "`management_group` - How the waterpoint is managed\n",
    "\n",
    "`payment` - What the water costs\n",
    "\n",
    "`payment_type` - What the water costs\n",
    "\n",
    "`water_quality` - The quality of the water\n",
    "\n",
    "`quality_group` - The quality of the water\n",
    "\n",
    "`quantity` - The quantity of water\n",
    "\n",
    "`quantity_group` - The quantity of water\n",
    "\n",
    "`source` - The source of the water\n",
    "\n",
    "`source_type` - The source of the water\n",
    "\n",
    "`source_class` - The source of the water\n",
    "\n",
    "`waterpoint_type` - The kind of waterpoint\n",
    "\n",
    "`waterpoint_type_group` - The kind of waterpoint\n"
   ]
  },
  {
   "cell_type": "markdown",
   "metadata": {},
   "source": [
    "<h2> Import libraries </h2> "
   ]
  },
  {
   "cell_type": "code",
   "execution_count": 672,
   "metadata": {},
   "outputs": [],
   "source": [
    "import pandas as pd\n",
    "import numpy as np\n",
    "import matplotlib.pyplot as plt\n",
    "from matplotlib import pyplot\n",
    "from sklearn.neighbors import KNeighborsClassifier\n",
    "from sklearn.linear_model import LogisticRegression, LogisticRegressionCV\n",
    "from sklearn.model_selection import train_test_split\n",
    "import sklearn\n",
    "from sklearn.preprocessing import scale\n",
    "from sklearn.metrics import roc_auc_score, accuracy_score\n",
    "from sklearn.pipeline import Pipeline\n",
    "from sklearn.preprocessing import StandardScaler, LabelEncoder\n",
    "from sklearn.model_selection import RandomizedSearchCV, GridSearchCV\n",
    "from sklearn.model_selection import StratifiedKFold, KFold\n",
    "from sklearn.ensemble import RandomForestClassifier\n",
    "from sklearn.tree import DecisionTreeClassifier\n",
    "from sklearn.ensemble import BaggingClassifier, GradientBoostingClassifier\n",
    "from catboost import CatBoostClassifier\n",
    "from sklearn.model_selection import cross_val_score\n",
    "import datetime\n",
    "from datetime import datetime\n",
    "from numpy import nan\n",
    "import seaborn as sns\n",
    "import matplotlib\n",
    "from sklearn.decomposition import PCA\n",
    "from xgboost import XGBClassifier\n",
    "import random\n",
    "from sklearn.feature_selection import RFECV, RFE\n",
    "import pygeohash as gh\n",
    "from vecstack import stacking\n",
    "from sklearn.ensemble import BaggingClassifier"
   ]
  },
  {
   "cell_type": "markdown",
   "metadata": {},
   "source": [
    "<h2>EDA</h2> "
   ]
  },
  {
   "cell_type": "code",
   "execution_count": 2,
   "metadata": {},
   "outputs": [],
   "source": [
    "test = pd.read_csv('Pump_it_Up_Data_Mining_the_Water_Table_-_Test_set_values.csv', sep=',')"
   ]
  },
  {
   "cell_type": "code",
   "execution_count": 3,
   "metadata": {},
   "outputs": [],
   "source": [
    "train = pd.read_csv('Pump_it_Up_Data_Mining_the_Water_Table_-_Training_set_values.csv', sep=',')"
   ]
  },
  {
   "cell_type": "code",
   "execution_count": 4,
   "metadata": {},
   "outputs": [],
   "source": [
    "labels = pd.read_csv('Pump_it_Up_Data_Mining_the_Water_Table_-_Training_set_labels.csv', sep=',')"
   ]
  },
  {
   "cell_type": "code",
   "execution_count": 5,
   "metadata": {},
   "outputs": [],
   "source": [
    "y_train = labels['status_group']"
   ]
  },
  {
   "cell_type": "markdown",
   "metadata": {},
   "source": [
    "Для удобства объединим тестовую и обучающую выборку в один датасет: создав колонку **sample**, которая принимает два значения: test и train."
   ]
  },
  {
   "cell_type": "code",
   "execution_count": 6,
   "metadata": {},
   "outputs": [],
   "source": [
    "train['sample'] = 'train'\n",
    "test['sample'] = 'test'"
   ]
  },
  {
   "cell_type": "code",
   "execution_count": 7,
   "metadata": {},
   "outputs": [],
   "source": [
    "df = train.append(test).reset_index(drop=True)"
   ]
  },
  {
   "cell_type": "markdown",
   "metadata": {
    "scrolled": true
   },
   "source": [
    "Посмотрим на данные:"
   ]
  },
  {
   "cell_type": "code",
   "execution_count": 9,
   "metadata": {},
   "outputs": [
    {
     "data": {
      "text/plain": [
       "0            functional\n",
       "1            functional\n",
       "2            functional\n",
       "3        non functional\n",
       "4            functional\n",
       "              ...      \n",
       "59395        functional\n",
       "59396        functional\n",
       "59397        functional\n",
       "59398        functional\n",
       "59399        functional\n",
       "Name: status_group, Length: 59400, dtype: object"
      ]
     },
     "execution_count": 9,
     "metadata": {},
     "output_type": "execute_result"
    }
   ],
   "source": [
    "y_train"
   ]
  },
  {
   "cell_type": "code",
   "execution_count": 11,
   "metadata": {},
   "outputs": [
    {
     "data": {
      "image/png": "[encoded data removed]",
      "text/plain": [
       "<Figure size 432x288 with 1 Axes>"
      ]
     },
     "metadata": {
      "needs_background": "light"
     },
     "output_type": "display_data"
    }
   ],
   "source": [
    "sns.countplot(y_train);"
   ]
  },
  {
   "cell_type": "code",
   "execution_count": null,
   "metadata": {},
   "outputs": [],
   "source": [
    "#df[‘c’].value_counts() "
   ]
  },
  {
   "cell_type": "code",
   "execution_count": 12,
   "metadata": {
    "scrolled": true
   },
   "outputs": [
    {
     "name": "stdout",
     "output_type": "stream",
     "text": [
      "<class 'pandas.core.frame.DataFrame'>\n",
      "RangeIndex: 74250 entries, 0 to 74249\n",
      "Data columns (total 41 columns):\n",
      "id                       74250 non-null int64\n",
      "amount_tsh               74250 non-null float64\n",
      "date_recorded            74250 non-null object\n",
      "funder                   69746 non-null object\n",
      "gps_height               74250 non-null int64\n",
      "installer                69718 non-null object\n",
      "longitude                74250 non-null float64\n",
      "latitude                 74250 non-null float64\n",
      "wpt_name                 74250 non-null object\n",
      "num_private              74250 non-null int64\n",
      "basin                    74250 non-null object\n",
      "subvillage               73780 non-null object\n",
      "region                   74250 non-null object\n",
      "region_code              74250 non-null int64\n",
      "district_code            74250 non-null int64\n",
      "lga                      74250 non-null object\n",
      "ward                     74250 non-null object\n",
      "population               74250 non-null int64\n",
      "public_meeting           70095 non-null object\n",
      "recorded_by              74250 non-null object\n",
      "scheme_management        69404 non-null object\n",
      "scheme_name              38992 non-null object\n",
      "permit                   70457 non-null object\n",
      "construction_year        74250 non-null int64\n",
      "extraction_type          74250 non-null object\n",
      "extraction_type_group    74250 non-null object\n",
      "extraction_type_class    74250 non-null object\n",
      "management               74250 non-null object\n",
      "management_group         74250 non-null object\n",
      "payment                  74250 non-null object\n",
      "payment_type             74250 non-null object\n",
      "water_quality            74250 non-null object\n",
      "quality_group            74250 non-null object\n",
      "quantity                 74250 non-null object\n",
      "quantity_group           74250 non-null object\n",
      "source                   74250 non-null object\n",
      "source_type              74250 non-null object\n",
      "source_class             74250 non-null object\n",
      "waterpoint_type          74250 non-null object\n",
      "waterpoint_type_group    74250 non-null object\n",
      "sample                   74250 non-null object\n",
      "dtypes: float64(3), int64(7), object(31)\n",
      "memory usage: 23.2+ MB\n"
     ]
    }
   ],
   "source": [
    "df.info()"
   ]
  },
  {
   "cell_type": "code",
   "execution_count": 13,
   "metadata": {},
   "outputs": [
    {
     "data": {
      "text/html": [
       "<div>\n",
       "<style scoped>\n",
       "    .dataframe tbody tr th:only-of-type {\n",
       "        vertical-align: middle;\n",
       "    }\n",
       "\n",
       "    .dataframe tbody tr th {\n",
       "        vertical-align: top;\n",
       "    }\n",
       "\n",
       "    .dataframe thead th {\n",
       "        text-align: right;\n",
       "    }\n",
       "</style>\n",
       "<table border=\"1\" class=\"dataframe\">\n",
       "  <thead>\n",
       "    <tr style=\"text-align: right;\">\n",
       "      <th></th>\n",
       "      <th>id</th>\n",
       "      <th>amount_tsh</th>\n",
       "      <th>gps_height</th>\n",
       "      <th>longitude</th>\n",
       "      <th>latitude</th>\n",
       "      <th>num_private</th>\n",
       "      <th>region_code</th>\n",
       "      <th>district_code</th>\n",
       "      <th>population</th>\n",
       "      <th>construction_year</th>\n",
       "    </tr>\n",
       "  </thead>\n",
       "  <tbody>\n",
       "    <tr>\n",
       "      <td>count</td>\n",
       "      <td>74250.000000</td>\n",
       "      <td>74250.000000</td>\n",
       "      <td>74250.000000</td>\n",
       "      <td>74250.000000</td>\n",
       "      <td>7.425000e+04</td>\n",
       "      <td>74250.000000</td>\n",
       "      <td>74250.000000</td>\n",
       "      <td>74250.000000</td>\n",
       "      <td>74250.000000</td>\n",
       "      <td>74250.000000</td>\n",
       "    </tr>\n",
       "    <tr>\n",
       "      <td>mean</td>\n",
       "      <td>37124.500000</td>\n",
       "      <td>318.685704</td>\n",
       "      <td>665.667313</td>\n",
       "      <td>34.074262</td>\n",
       "      <td>-5.701771e+00</td>\n",
       "      <td>0.462330</td>\n",
       "      <td>15.265414</td>\n",
       "      <td>5.629077</td>\n",
       "      <td>180.750828</td>\n",
       "      <td>1298.463650</td>\n",
       "    </tr>\n",
       "    <tr>\n",
       "      <td>std</td>\n",
       "      <td>21434.273081</td>\n",
       "      <td>2906.762364</td>\n",
       "      <td>692.761033</td>\n",
       "      <td>6.572519</td>\n",
       "      <td>2.944969e+00</td>\n",
       "      <td>11.537879</td>\n",
       "      <td>17.508907</td>\n",
       "      <td>9.641636</td>\n",
       "      <td>471.086120</td>\n",
       "      <td>952.349375</td>\n",
       "    </tr>\n",
       "    <tr>\n",
       "      <td>min</td>\n",
       "      <td>0.000000</td>\n",
       "      <td>0.000000</td>\n",
       "      <td>-90.000000</td>\n",
       "      <td>0.000000</td>\n",
       "      <td>-1.164944e+01</td>\n",
       "      <td>0.000000</td>\n",
       "      <td>1.000000</td>\n",
       "      <td>0.000000</td>\n",
       "      <td>0.000000</td>\n",
       "      <td>0.000000</td>\n",
       "    </tr>\n",
       "    <tr>\n",
       "      <td>25%</td>\n",
       "      <td>18562.250000</td>\n",
       "      <td>0.000000</td>\n",
       "      <td>0.000000</td>\n",
       "      <td>33.086819</td>\n",
       "      <td>-8.525675e+00</td>\n",
       "      <td>0.000000</td>\n",
       "      <td>5.000000</td>\n",
       "      <td>2.000000</td>\n",
       "      <td>0.000000</td>\n",
       "      <td>0.000000</td>\n",
       "    </tr>\n",
       "    <tr>\n",
       "      <td>50%</td>\n",
       "      <td>37124.500000</td>\n",
       "      <td>0.000000</td>\n",
       "      <td>364.000000</td>\n",
       "      <td>34.907475</td>\n",
       "      <td>-5.026540e+00</td>\n",
       "      <td>0.000000</td>\n",
       "      <td>12.000000</td>\n",
       "      <td>3.000000</td>\n",
       "      <td>25.000000</td>\n",
       "      <td>1986.000000</td>\n",
       "    </tr>\n",
       "    <tr>\n",
       "      <td>75%</td>\n",
       "      <td>55686.750000</td>\n",
       "      <td>20.000000</td>\n",
       "      <td>1317.000000</td>\n",
       "      <td>37.181685</td>\n",
       "      <td>-3.325058e+00</td>\n",
       "      <td>0.000000</td>\n",
       "      <td>17.000000</td>\n",
       "      <td>5.000000</td>\n",
       "      <td>215.000000</td>\n",
       "      <td>2004.000000</td>\n",
       "    </tr>\n",
       "    <tr>\n",
       "      <td>max</td>\n",
       "      <td>74249.000000</td>\n",
       "      <td>350000.000000</td>\n",
       "      <td>2777.000000</td>\n",
       "      <td>40.345193</td>\n",
       "      <td>-2.000000e-08</td>\n",
       "      <td>1776.000000</td>\n",
       "      <td>99.000000</td>\n",
       "      <td>80.000000</td>\n",
       "      <td>30500.000000</td>\n",
       "      <td>2013.000000</td>\n",
       "    </tr>\n",
       "  </tbody>\n",
       "</table>\n",
       "</div>"
      ],
      "text/plain": [
       "                 id     amount_tsh    gps_height     longitude      latitude  \\\n",
       "count  74250.000000   74250.000000  74250.000000  74250.000000  7.425000e+04   \n",
       "mean   37124.500000     318.685704    665.667313     34.074262 -5.701771e+00   \n",
       "std    21434.273081    2906.762364    692.761033      6.572519  2.944969e+00   \n",
       "min        0.000000       0.000000    -90.000000      0.000000 -1.164944e+01   \n",
       "25%    18562.250000       0.000000      0.000000     33.086819 -8.525675e+00   \n",
       "50%    37124.500000       0.000000    364.000000     34.907475 -5.026540e+00   \n",
       "75%    55686.750000      20.000000   1317.000000     37.181685 -3.325058e+00   \n",
       "max    74249.000000  350000.000000   2777.000000     40.345193 -2.000000e-08   \n",
       "\n",
       "        num_private   region_code  district_code    population  \\\n",
       "count  74250.000000  74250.000000   74250.000000  74250.000000   \n",
       "mean       0.462330     15.265414       5.629077    180.750828   \n",
       "std       11.537879     17.508907       9.641636    471.086120   \n",
       "min        0.000000      1.000000       0.000000      0.000000   \n",
       "25%        0.000000      5.000000       2.000000      0.000000   \n",
       "50%        0.000000     12.000000       3.000000     25.000000   \n",
       "75%        0.000000     17.000000       5.000000    215.000000   \n",
       "max     1776.000000     99.000000      80.000000  30500.000000   \n",
       "\n",
       "       construction_year  \n",
       "count       74250.000000  \n",
       "mean         1298.463650  \n",
       "std           952.349375  \n",
       "min             0.000000  \n",
       "25%             0.000000  \n",
       "50%          1986.000000  \n",
       "75%          2004.000000  \n",
       "max          2013.000000  "
      ]
     },
     "execution_count": 13,
     "metadata": {},
     "output_type": "execute_result"
    }
   ],
   "source": [
    "df.describe()"
   ]
  },
  {
   "cell_type": "code",
   "execution_count": 14,
   "metadata": {
    "scrolled": true
   },
   "outputs": [
    {
     "data": {
      "text/plain": [
       "id                           0\n",
       "amount_tsh                   0\n",
       "date_recorded                0\n",
       "funder                    4504\n",
       "gps_height                   0\n",
       "installer                 4532\n",
       "longitude                    0\n",
       "latitude                     0\n",
       "wpt_name                     0\n",
       "num_private                  0\n",
       "basin                        0\n",
       "subvillage                 470\n",
       "region                       0\n",
       "region_code                  0\n",
       "district_code                0\n",
       "lga                          0\n",
       "ward                         0\n",
       "population                   0\n",
       "public_meeting            4155\n",
       "recorded_by                  0\n",
       "scheme_management         4846\n",
       "scheme_name              35258\n",
       "permit                    3793\n",
       "construction_year            0\n",
       "extraction_type              0\n",
       "extraction_type_group        0\n",
       "extraction_type_class        0\n",
       "management                   0\n",
       "management_group             0\n",
       "payment                      0\n",
       "payment_type                 0\n",
       "water_quality                0\n",
       "quality_group                0\n",
       "quantity                     0\n",
       "quantity_group               0\n",
       "source                       0\n",
       "source_type                  0\n",
       "source_class                 0\n",
       "waterpoint_type              0\n",
       "waterpoint_type_group        0\n",
       "sample                       0\n",
       "dtype: int64"
      ]
     },
     "execution_count": 14,
     "metadata": {},
     "output_type": "execute_result"
    }
   ],
   "source": [
    "df.isnull().sum()"
   ]
  },
  {
   "cell_type": "code",
   "execution_count": 15,
   "metadata": {
    "scrolled": true
   },
   "outputs": [
    {
     "name": "stdout",
     "output_type": "stream",
     "text": [
      "id : 74250\n",
      "amount_tsh : 102\n",
      "date_recorded : 369\n",
      "funder : 2141\n",
      "gps_height : 2456\n",
      "installer : 2411\n",
      "longitude : 71870\n",
      "latitude : 71869\n",
      "wpt_name : 45684\n",
      "num_private : 68\n",
      "basin : 9\n",
      "subvillage : 21426\n",
      "region : 21\n",
      "region_code : 27\n",
      "district_code : 20\n",
      "lga : 125\n",
      "ward : 2098\n",
      "population : 1128\n",
      "public_meeting : 3\n",
      "recorded_by : 1\n",
      "scheme_management : 13\n",
      "scheme_name : 2869\n",
      "permit : 3\n",
      "construction_year : 55\n",
      "extraction_type : 18\n",
      "extraction_type_group : 13\n",
      "extraction_type_class : 7\n",
      "management : 12\n",
      "management_group : 5\n",
      "payment : 7\n",
      "payment_type : 7\n",
      "water_quality : 8\n",
      "quality_group : 6\n",
      "quantity : 5\n",
      "quantity_group : 5\n",
      "source : 10\n",
      "source_type : 7\n",
      "source_class : 3\n",
      "waterpoint_type : 7\n",
      "waterpoint_type_group : 6\n",
      "sample : 2\n"
     ]
    }
   ],
   "source": [
    "# уникальные значения\n",
    "columns_names = df.columns.to_list()\n",
    "for i in range(len(df.T)):\n",
    "    print (columns_names[i], \":\", len(df[columns_names[i]].unique()))"
   ]
  },
  {
   "cell_type": "markdown",
   "metadata": {},
   "source": [
    "По вышеописанным статистикам, заметим, что `recorded_by` имеет одно уникальное значение. Следовательно, эта фича под удаление.\n",
    "\n",
    "`wpt_name` имеет 45 тысяч уникальных значений – удаляем."
   ]
  },
  {
   "cell_type": "code",
   "execution_count": 16,
   "metadata": {},
   "outputs": [
    {
     "data": {
      "text/plain": [
       "array([   0,   39,    5,   45,    6,    3,  698,   32,   15,    7,   25,\n",
       "        102,    1,   93,   14,   34,  120,   17,  213,   47,    8,   41,\n",
       "         80,  141,   20,   35,  131,    4,   22,   11,   87,   61,   65,\n",
       "        136,    2,  180,   38,   62,    9,   16,   23,   42,   24,   12,\n",
       "        668,  672,   58,  150,  280,  160,   50, 1776,   30,   27,   10,\n",
       "         94,   26,  450,  240,  755,   60,  111,  300,   55, 1402,  669,\n",
       "         13,  420])"
      ]
     },
     "execution_count": 16,
     "metadata": {},
     "output_type": "execute_result"
    }
   ],
   "source": [
    "df['num_private'].unique()"
   ]
  },
  {
   "cell_type": "code",
   "execution_count": 17,
   "metadata": {},
   "outputs": [
    {
     "data": {
      "text/plain": [
       "73299"
      ]
     },
     "execution_count": 17,
     "metadata": {},
     "output_type": "execute_result"
    }
   ],
   "source": [
    "len(df[\n",
    "    (df['num_private'] == 0)\n",
    "])"
   ]
  },
  {
   "cell_type": "markdown",
   "metadata": {},
   "source": [
    "Признак `num_private` тоже под удаление, 99% данных имеют значение 0 в этой колонке."
   ]
  },
  {
   "cell_type": "code",
   "execution_count": 18,
   "metadata": {},
   "outputs": [
    {
     "data": {
      "text/html": [
       "<div>\n",
       "<style scoped>\n",
       "    .dataframe tbody tr th:only-of-type {\n",
       "        vertical-align: middle;\n",
       "    }\n",
       "\n",
       "    .dataframe tbody tr th {\n",
       "        vertical-align: top;\n",
       "    }\n",
       "\n",
       "    .dataframe thead th {\n",
       "        text-align: right;\n",
       "    }\n",
       "</style>\n",
       "<table border=\"1\" class=\"dataframe\">\n",
       "  <thead>\n",
       "    <tr style=\"text-align: right;\">\n",
       "      <th></th>\n",
       "      <th>id</th>\n",
       "      <th>amount_tsh</th>\n",
       "      <th>date_recorded</th>\n",
       "      <th>funder</th>\n",
       "      <th>gps_height</th>\n",
       "      <th>installer</th>\n",
       "      <th>longitude</th>\n",
       "      <th>latitude</th>\n",
       "      <th>wpt_name</th>\n",
       "      <th>num_private</th>\n",
       "      <th>...</th>\n",
       "      <th>water_quality</th>\n",
       "      <th>quality_group</th>\n",
       "      <th>quantity</th>\n",
       "      <th>quantity_group</th>\n",
       "      <th>source</th>\n",
       "      <th>source_type</th>\n",
       "      <th>source_class</th>\n",
       "      <th>waterpoint_type</th>\n",
       "      <th>waterpoint_type_group</th>\n",
       "      <th>sample</th>\n",
       "    </tr>\n",
       "  </thead>\n",
       "  <tbody>\n",
       "    <tr>\n",
       "      <td>1</td>\n",
       "      <td>8776</td>\n",
       "      <td>0.0</td>\n",
       "      <td>2013-03-06</td>\n",
       "      <td>Grumeti</td>\n",
       "      <td>1399</td>\n",
       "      <td>GRUMETI</td>\n",
       "      <td>34.698766</td>\n",
       "      <td>-2.147466</td>\n",
       "      <td>Zahanati</td>\n",
       "      <td>0</td>\n",
       "      <td>...</td>\n",
       "      <td>soft</td>\n",
       "      <td>good</td>\n",
       "      <td>insufficient</td>\n",
       "      <td>insufficient</td>\n",
       "      <td>rainwater harvesting</td>\n",
       "      <td>rainwater harvesting</td>\n",
       "      <td>surface</td>\n",
       "      <td>communal standpipe</td>\n",
       "      <td>communal standpipe</td>\n",
       "      <td>train</td>\n",
       "    </tr>\n",
       "    <tr>\n",
       "      <td>2755</td>\n",
       "      <td>45674</td>\n",
       "      <td>0.0</td>\n",
       "      <td>2013-03-06</td>\n",
       "      <td>Government Of Tanzania</td>\n",
       "      <td>1399</td>\n",
       "      <td>Government</td>\n",
       "      <td>34.698453</td>\n",
       "      <td>-2.146846</td>\n",
       "      <td>Zahanati</td>\n",
       "      <td>0</td>\n",
       "      <td>...</td>\n",
       "      <td>salty</td>\n",
       "      <td>salty</td>\n",
       "      <td>insufficient</td>\n",
       "      <td>insufficient</td>\n",
       "      <td>machine dbh</td>\n",
       "      <td>borehole</td>\n",
       "      <td>groundwater</td>\n",
       "      <td>communal standpipe multiple</td>\n",
       "      <td>communal standpipe</td>\n",
       "      <td>train</td>\n",
       "    </tr>\n",
       "    <tr>\n",
       "      <td>12140</td>\n",
       "      <td>42312</td>\n",
       "      <td>0.0</td>\n",
       "      <td>2013-03-06</td>\n",
       "      <td>Government Of Tanzania</td>\n",
       "      <td>1399</td>\n",
       "      <td>Government</td>\n",
       "      <td>34.689976</td>\n",
       "      <td>-2.150565</td>\n",
       "      <td>Nyangi Sirocha</td>\n",
       "      <td>4</td>\n",
       "      <td>...</td>\n",
       "      <td>salty</td>\n",
       "      <td>salty</td>\n",
       "      <td>insufficient</td>\n",
       "      <td>insufficient</td>\n",
       "      <td>machine dbh</td>\n",
       "      <td>borehole</td>\n",
       "      <td>groundwater</td>\n",
       "      <td>communal standpipe</td>\n",
       "      <td>communal standpipe</td>\n",
       "      <td>train</td>\n",
       "    </tr>\n",
       "    <tr>\n",
       "      <td>24536</td>\n",
       "      <td>60932</td>\n",
       "      <td>0.0</td>\n",
       "      <td>2013-03-06</td>\n",
       "      <td>Government Of Tanzania</td>\n",
       "      <td>1399</td>\n",
       "      <td>Government</td>\n",
       "      <td>34.692130</td>\n",
       "      <td>-2.146960</td>\n",
       "      <td>Juma Hassan</td>\n",
       "      <td>5</td>\n",
       "      <td>...</td>\n",
       "      <td>salty</td>\n",
       "      <td>salty</td>\n",
       "      <td>insufficient</td>\n",
       "      <td>insufficient</td>\n",
       "      <td>machine dbh</td>\n",
       "      <td>borehole</td>\n",
       "      <td>groundwater</td>\n",
       "      <td>communal standpipe</td>\n",
       "      <td>communal standpipe</td>\n",
       "      <td>train</td>\n",
       "    </tr>\n",
       "    <tr>\n",
       "      <td>50047</td>\n",
       "      <td>12039</td>\n",
       "      <td>0.0</td>\n",
       "      <td>2013-03-06</td>\n",
       "      <td>Government Of Tanzania</td>\n",
       "      <td>1396</td>\n",
       "      <td>Government</td>\n",
       "      <td>34.696046</td>\n",
       "      <td>-2.151478</td>\n",
       "      <td>Machota</td>\n",
       "      <td>0</td>\n",
       "      <td>...</td>\n",
       "      <td>salty</td>\n",
       "      <td>salty</td>\n",
       "      <td>insufficient</td>\n",
       "      <td>insufficient</td>\n",
       "      <td>machine dbh</td>\n",
       "      <td>borehole</td>\n",
       "      <td>groundwater</td>\n",
       "      <td>communal standpipe</td>\n",
       "      <td>communal standpipe</td>\n",
       "      <td>train</td>\n",
       "    </tr>\n",
       "    <tr>\n",
       "      <td>60922</td>\n",
       "      <td>25325</td>\n",
       "      <td>0.0</td>\n",
       "      <td>2013-03-06</td>\n",
       "      <td>Government Of Tanzania</td>\n",
       "      <td>1397</td>\n",
       "      <td>Government</td>\n",
       "      <td>34.690275</td>\n",
       "      <td>-2.147671</td>\n",
       "      <td>Omarry Nyambureti</td>\n",
       "      <td>0</td>\n",
       "      <td>...</td>\n",
       "      <td>salty</td>\n",
       "      <td>salty</td>\n",
       "      <td>insufficient</td>\n",
       "      <td>insufficient</td>\n",
       "      <td>machine dbh</td>\n",
       "      <td>borehole</td>\n",
       "      <td>groundwater</td>\n",
       "      <td>communal standpipe multiple</td>\n",
       "      <td>communal standpipe</td>\n",
       "      <td>test</td>\n",
       "    </tr>\n",
       "  </tbody>\n",
       "</table>\n",
       "<p>6 rows × 41 columns</p>\n",
       "</div>"
      ],
      "text/plain": [
       "          id  amount_tsh date_recorded                  funder  gps_height  \\\n",
       "1       8776         0.0    2013-03-06                 Grumeti        1399   \n",
       "2755   45674         0.0    2013-03-06  Government Of Tanzania        1399   \n",
       "12140  42312         0.0    2013-03-06  Government Of Tanzania        1399   \n",
       "24536  60932         0.0    2013-03-06  Government Of Tanzania        1399   \n",
       "50047  12039         0.0    2013-03-06  Government Of Tanzania        1396   \n",
       "60922  25325         0.0    2013-03-06  Government Of Tanzania        1397   \n",
       "\n",
       "        installer  longitude  latitude           wpt_name  num_private  ...  \\\n",
       "1         GRUMETI  34.698766 -2.147466           Zahanati            0  ...   \n",
       "2755   Government  34.698453 -2.146846           Zahanati            0  ...   \n",
       "12140  Government  34.689976 -2.150565     Nyangi Sirocha            4  ...   \n",
       "24536  Government  34.692130 -2.146960        Juma Hassan            5  ...   \n",
       "50047  Government  34.696046 -2.151478            Machota            0  ...   \n",
       "60922  Government  34.690275 -2.147671  Omarry Nyambureti            0  ...   \n",
       "\n",
       "      water_quality quality_group      quantity  quantity_group  \\\n",
       "1              soft          good  insufficient    insufficient   \n",
       "2755          salty         salty  insufficient    insufficient   \n",
       "12140         salty         salty  insufficient    insufficient   \n",
       "24536         salty         salty  insufficient    insufficient   \n",
       "50047         salty         salty  insufficient    insufficient   \n",
       "60922         salty         salty  insufficient    insufficient   \n",
       "\n",
       "                     source           source_type source_class  \\\n",
       "1      rainwater harvesting  rainwater harvesting      surface   \n",
       "2755            machine dbh              borehole  groundwater   \n",
       "12140           machine dbh              borehole  groundwater   \n",
       "24536           machine dbh              borehole  groundwater   \n",
       "50047           machine dbh              borehole  groundwater   \n",
       "60922           machine dbh              borehole  groundwater   \n",
       "\n",
       "                   waterpoint_type waterpoint_type_group sample  \n",
       "1               communal standpipe    communal standpipe  train  \n",
       "2755   communal standpipe multiple    communal standpipe  train  \n",
       "12140           communal standpipe    communal standpipe  train  \n",
       "24536           communal standpipe    communal standpipe  train  \n",
       "50047           communal standpipe    communal standpipe  train  \n",
       "60922  communal standpipe multiple    communal standpipe   test  \n",
       "\n",
       "[6 rows x 41 columns]"
      ]
     },
     "execution_count": 18,
     "metadata": {},
     "output_type": "execute_result"
    }
   ],
   "source": [
    "df[(df['subvillage'] == 'Nyamara')]"
   ]
  },
  {
   "cell_type": "code",
   "execution_count": 19,
   "metadata": {},
   "outputs": [
    {
     "data": {
      "text/html": [
       "<div>\n",
       "<style scoped>\n",
       "    .dataframe tbody tr th:only-of-type {\n",
       "        vertical-align: middle;\n",
       "    }\n",
       "\n",
       "    .dataframe tbody tr th {\n",
       "        vertical-align: top;\n",
       "    }\n",
       "\n",
       "    .dataframe thead th {\n",
       "        text-align: right;\n",
       "    }\n",
       "</style>\n",
       "<table border=\"1\" class=\"dataframe\">\n",
       "  <thead>\n",
       "    <tr style=\"text-align: right;\">\n",
       "      <th></th>\n",
       "      <th>id</th>\n",
       "      <th>amount_tsh</th>\n",
       "      <th>date_recorded</th>\n",
       "      <th>funder</th>\n",
       "      <th>gps_height</th>\n",
       "      <th>installer</th>\n",
       "      <th>longitude</th>\n",
       "      <th>latitude</th>\n",
       "      <th>wpt_name</th>\n",
       "      <th>num_private</th>\n",
       "      <th>...</th>\n",
       "      <th>quality_group</th>\n",
       "      <th>quantity</th>\n",
       "      <th>quantity_group</th>\n",
       "      <th>source</th>\n",
       "      <th>source_type</th>\n",
       "      <th>source_class</th>\n",
       "      <th>waterpoint_type</th>\n",
       "      <th>waterpoint_type_group</th>\n",
       "      <th>sample</th>\n",
       "      <th>status_group</th>\n",
       "    </tr>\n",
       "  </thead>\n",
       "  <tbody>\n",
       "    <tr>\n",
       "      <td>1</td>\n",
       "      <td>8776</td>\n",
       "      <td>0.0</td>\n",
       "      <td>2013-03-06</td>\n",
       "      <td>Grumeti</td>\n",
       "      <td>1399</td>\n",
       "      <td>GRUMETI</td>\n",
       "      <td>34.698766</td>\n",
       "      <td>-2.147466</td>\n",
       "      <td>Zahanati</td>\n",
       "      <td>0</td>\n",
       "      <td>...</td>\n",
       "      <td>good</td>\n",
       "      <td>insufficient</td>\n",
       "      <td>insufficient</td>\n",
       "      <td>rainwater harvesting</td>\n",
       "      <td>rainwater harvesting</td>\n",
       "      <td>surface</td>\n",
       "      <td>communal standpipe</td>\n",
       "      <td>communal standpipe</td>\n",
       "      <td>train</td>\n",
       "      <td>functional</td>\n",
       "    </tr>\n",
       "    <tr>\n",
       "      <td>2755</td>\n",
       "      <td>45674</td>\n",
       "      <td>0.0</td>\n",
       "      <td>2013-03-06</td>\n",
       "      <td>Government Of Tanzania</td>\n",
       "      <td>1399</td>\n",
       "      <td>Government</td>\n",
       "      <td>34.698453</td>\n",
       "      <td>-2.146846</td>\n",
       "      <td>Zahanati</td>\n",
       "      <td>0</td>\n",
       "      <td>...</td>\n",
       "      <td>salty</td>\n",
       "      <td>insufficient</td>\n",
       "      <td>insufficient</td>\n",
       "      <td>machine dbh</td>\n",
       "      <td>borehole</td>\n",
       "      <td>groundwater</td>\n",
       "      <td>communal standpipe multiple</td>\n",
       "      <td>communal standpipe</td>\n",
       "      <td>train</td>\n",
       "      <td>functional</td>\n",
       "    </tr>\n",
       "    <tr>\n",
       "      <td>12140</td>\n",
       "      <td>42312</td>\n",
       "      <td>0.0</td>\n",
       "      <td>2013-03-06</td>\n",
       "      <td>Government Of Tanzania</td>\n",
       "      <td>1399</td>\n",
       "      <td>Government</td>\n",
       "      <td>34.689976</td>\n",
       "      <td>-2.150565</td>\n",
       "      <td>Nyangi Sirocha</td>\n",
       "      <td>4</td>\n",
       "      <td>...</td>\n",
       "      <td>salty</td>\n",
       "      <td>insufficient</td>\n",
       "      <td>insufficient</td>\n",
       "      <td>machine dbh</td>\n",
       "      <td>borehole</td>\n",
       "      <td>groundwater</td>\n",
       "      <td>communal standpipe</td>\n",
       "      <td>communal standpipe</td>\n",
       "      <td>train</td>\n",
       "      <td>functional</td>\n",
       "    </tr>\n",
       "    <tr>\n",
       "      <td>24536</td>\n",
       "      <td>60932</td>\n",
       "      <td>0.0</td>\n",
       "      <td>2013-03-06</td>\n",
       "      <td>Government Of Tanzania</td>\n",
       "      <td>1399</td>\n",
       "      <td>Government</td>\n",
       "      <td>34.692130</td>\n",
       "      <td>-2.146960</td>\n",
       "      <td>Juma Hassan</td>\n",
       "      <td>5</td>\n",
       "      <td>...</td>\n",
       "      <td>salty</td>\n",
       "      <td>insufficient</td>\n",
       "      <td>insufficient</td>\n",
       "      <td>machine dbh</td>\n",
       "      <td>borehole</td>\n",
       "      <td>groundwater</td>\n",
       "      <td>communal standpipe</td>\n",
       "      <td>communal standpipe</td>\n",
       "      <td>train</td>\n",
       "      <td>functional</td>\n",
       "    </tr>\n",
       "    <tr>\n",
       "      <td>50047</td>\n",
       "      <td>12039</td>\n",
       "      <td>0.0</td>\n",
       "      <td>2013-03-06</td>\n",
       "      <td>Government Of Tanzania</td>\n",
       "      <td>1396</td>\n",
       "      <td>Government</td>\n",
       "      <td>34.696046</td>\n",
       "      <td>-2.151478</td>\n",
       "      <td>Machota</td>\n",
       "      <td>0</td>\n",
       "      <td>...</td>\n",
       "      <td>salty</td>\n",
       "      <td>insufficient</td>\n",
       "      <td>insufficient</td>\n",
       "      <td>machine dbh</td>\n",
       "      <td>borehole</td>\n",
       "      <td>groundwater</td>\n",
       "      <td>communal standpipe</td>\n",
       "      <td>communal standpipe</td>\n",
       "      <td>train</td>\n",
       "      <td>functional</td>\n",
       "    </tr>\n",
       "  </tbody>\n",
       "</table>\n",
       "<p>5 rows × 42 columns</p>\n",
       "</div>"
      ],
      "text/plain": [
       "          id  amount_tsh date_recorded                  funder  gps_height  \\\n",
       "1       8776         0.0    2013-03-06                 Grumeti        1399   \n",
       "2755   45674         0.0    2013-03-06  Government Of Tanzania        1399   \n",
       "12140  42312         0.0    2013-03-06  Government Of Tanzania        1399   \n",
       "24536  60932         0.0    2013-03-06  Government Of Tanzania        1399   \n",
       "50047  12039         0.0    2013-03-06  Government Of Tanzania        1396   \n",
       "\n",
       "        installer  longitude  latitude        wpt_name  num_private  ...  \\\n",
       "1         GRUMETI  34.698766 -2.147466        Zahanati            0  ...   \n",
       "2755   Government  34.698453 -2.146846        Zahanati            0  ...   \n",
       "12140  Government  34.689976 -2.150565  Nyangi Sirocha            4  ...   \n",
       "24536  Government  34.692130 -2.146960     Juma Hassan            5  ...   \n",
       "50047  Government  34.696046 -2.151478         Machota            0  ...   \n",
       "\n",
       "      quality_group      quantity quantity_group                source  \\\n",
       "1              good  insufficient   insufficient  rainwater harvesting   \n",
       "2755          salty  insufficient   insufficient           machine dbh   \n",
       "12140         salty  insufficient   insufficient           machine dbh   \n",
       "24536         salty  insufficient   insufficient           machine dbh   \n",
       "50047         salty  insufficient   insufficient           machine dbh   \n",
       "\n",
       "                source_type source_class              waterpoint_type  \\\n",
       "1      rainwater harvesting      surface           communal standpipe   \n",
       "2755               borehole  groundwater  communal standpipe multiple   \n",
       "12140              borehole  groundwater           communal standpipe   \n",
       "24536              borehole  groundwater           communal standpipe   \n",
       "50047              borehole  groundwater           communal standpipe   \n",
       "\n",
       "       waterpoint_type_group sample status_group  \n",
       "1         communal standpipe  train   functional  \n",
       "2755      communal standpipe  train   functional  \n",
       "12140     communal standpipe  train   functional  \n",
       "24536     communal standpipe  train   functional  \n",
       "50047     communal standpipe  train   functional  \n",
       "\n",
       "[5 rows x 42 columns]"
      ]
     },
     "execution_count": 19,
     "metadata": {},
     "output_type": "execute_result"
    }
   ],
   "source": [
    "# заметим закономерность \n",
    "example = train.join(y_train)\n",
    "example[(example['subvillage'] == 'Nyamara')]"
   ]
  },
  {
   "cell_type": "markdown",
   "metadata": {},
   "source": [
    "Признак `subvillage` имеет очень много уникальных значений (21426) и применять к нему **one_hot_encoding** не резонно, но мы попробуем выжать максимум из данных. В дальнейшем, мы удалим неинформативные признаки. "
   ]
  },
  {
   "cell_type": "markdown",
   "metadata": {},
   "source": [
    "В фичах с пропущенными значениями мы сделаем отдельную категорию _\"my_uniq_na\"_."
   ]
  },
  {
   "cell_type": "markdown",
   "metadata": {},
   "source": [
    "# Feature Engineering"
   ]
  },
  {
   "cell_type": "markdown",
   "metadata": {},
   "source": [
    "`date_recorded` – дата проверки водяного насоса на пригодность, а `construction_year` – год постройки. Из этих двух фичей можно сделать новую –> `age`, которая будет отвечать за срок службы объекта. Для такой процедуры напишем специальную функцию, которой передаётся значения признаков, а возвращаемое значение = количество прослуженных лет."
   ]
  },
  {
   "cell_type": "code",
   "execution_count": 20,
   "metadata": {},
   "outputs": [],
   "source": [
    "def age(year1, year2):\n",
    "    recorded_year = datetime.strptime(year1, '%Y-%m-%d').date()\n",
    "    record = recorded_year.year\n",
    "    if year2 == 0: \n",
    "        return nan\n",
    "    else: \n",
    "        return record - year2"
   ]
  },
  {
   "cell_type": "markdown",
   "metadata": {},
   "source": [
    "Используя долготу и широту (`longitude`, `latitude`) создадим фичу `geohash`, которая будет отвечать также за географическое расположение объекта. Обрезав значение геохэша до трех знаков, получим около 50 уникальных значений для последующего **one_hot_encoding'a**."
   ]
  },
  {
   "cell_type": "code",
   "execution_count": 21,
   "metadata": {},
   "outputs": [],
   "source": [
    "# обрезает строку \n",
    "def cuter(s):\n",
    "    return s[0:3]"
   ]
  },
  {
   "cell_type": "markdown",
   "metadata": {},
   "source": [
    "# Function for Preprocessing"
   ]
  },
  {
   "cell_type": "markdown",
   "metadata": {},
   "source": [
    "Для удобства напишем специальную функцию для предобработки, в которой будут включены все действия над данными:"
   ]
  },
  {
   "cell_type": "code",
   "execution_count": 22,
   "metadata": {},
   "outputs": [],
   "source": [
    "def data_preprocessing(df_input):\n",
    "    df = df_input.copy()\n",
    "    #df.reset_index(inplace=True)\n",
    "    \n",
    "    df['age'] = df.apply(lambda x: age(x['date_recorded'], x['construction_year']), axis= 1)\n",
    "    df['age'] = df['age'].fillna(df['age'].mean())\n",
    "    \n",
    "    df.drop(columns = ['date_recorded', 'construction_year', 'wpt_name', 'num_private',\n",
    "                       'recorded_by'], inplace=True)\n",
    "    \n",
    "    df['geohash'] = df.apply(lambda x : \n",
    "                             gh.encode(x.latitude, x.longitude, precision=5), axis=1)\n",
    "    df['geohash'] = df['geohash'].map(cuter)\n",
    "    \n",
    "    numeric_cols = ['amount_tsh', 'gps_height', 'longitude',\n",
    "                    'latitude', 'population', 'age']\n",
    "    \n",
    "    categorical_cols = list(set(df.columns.values.tolist()) - set(numeric_cols))\n",
    "    \n",
    "    \n",
    "    #categorical_cols.append('region_code')\n",
    "    #categorical_cols.append('district_code')\n",
    "    \n",
    "    categorical_cols.remove('id')\n",
    "    \n",
    "    categorical_cols.remove('sample')\n",
    "    \n",
    "    \n",
    "    #for i in range(len(categorical_cols)):\n",
    "        #print (categorical_cols[i])\n",
    "    \n",
    "    X_cat = (df[categorical_cols]).fillna('my_uniq_na')\n",
    "    X_cat = X_cat.astype(str)\n",
    "    \n",
    "    one_hot = pd.get_dummies(X_cat)\n",
    "    df = df.drop(categorical_cols,axis = 1)\n",
    "    df = df.join(one_hot)\n",
    "    \n",
    "    return df"
   ]
  },
  {
   "cell_type": "markdown",
   "metadata": {},
   "source": [
    "Эта функция возвращает датафрейм с удалёнными `date_recorded`, `construction_year`, `wpt_name`, `num_private`, `recorded_by` ; с новыми `age` и `geohash` ; ко всем категориальным признакам применяется метод **one_hot_encoding**, а пропущенные значения в таких признаках заменяются на уникальную категорию _\"my_uniq\"_ ;"
   ]
  },
  {
   "cell_type": "code",
   "execution_count": 23,
   "metadata": {},
   "outputs": [],
   "source": [
    "df_new = df.pipe(data_preprocessing)"
   ]
  },
  {
   "cell_type": "code",
   "execution_count": 24,
   "metadata": {},
   "outputs": [
    {
     "data": {
      "text/html": [
       "<div>\n",
       "<style scoped>\n",
       "    .dataframe tbody tr th:only-of-type {\n",
       "        vertical-align: middle;\n",
       "    }\n",
       "\n",
       "    .dataframe tbody tr th {\n",
       "        vertical-align: top;\n",
       "    }\n",
       "\n",
       "    .dataframe thead th {\n",
       "        text-align: right;\n",
       "    }\n",
       "</style>\n",
       "<table border=\"1\" class=\"dataframe\">\n",
       "  <thead>\n",
       "    <tr style=\"text-align: right;\">\n",
       "      <th></th>\n",
       "      <th>id</th>\n",
       "      <th>amount_tsh</th>\n",
       "      <th>gps_height</th>\n",
       "      <th>longitude</th>\n",
       "      <th>latitude</th>\n",
       "      <th>population</th>\n",
       "      <th>sample</th>\n",
       "      <th>age</th>\n",
       "      <th>basin_Internal</th>\n",
       "      <th>basin_Lake Nyasa</th>\n",
       "      <th>...</th>\n",
       "      <th>source_type_other</th>\n",
       "      <th>source_type_rainwater harvesting</th>\n",
       "      <th>source_type_river/lake</th>\n",
       "      <th>source_type_shallow well</th>\n",
       "      <th>source_type_spring</th>\n",
       "      <th>quantity_group_dry</th>\n",
       "      <th>quantity_group_enough</th>\n",
       "      <th>quantity_group_insufficient</th>\n",
       "      <th>quantity_group_seasonal</th>\n",
       "      <th>quantity_group_unknown</th>\n",
       "    </tr>\n",
       "  </thead>\n",
       "  <tbody>\n",
       "    <tr>\n",
       "      <td>0</td>\n",
       "      <td>69572</td>\n",
       "      <td>6000.0</td>\n",
       "      <td>1390</td>\n",
       "      <td>34.938093</td>\n",
       "      <td>-9.856322</td>\n",
       "      <td>109</td>\n",
       "      <td>train</td>\n",
       "      <td>12.000000</td>\n",
       "      <td>0</td>\n",
       "      <td>1</td>\n",
       "      <td>...</td>\n",
       "      <td>0</td>\n",
       "      <td>0</td>\n",
       "      <td>0</td>\n",
       "      <td>0</td>\n",
       "      <td>1</td>\n",
       "      <td>0</td>\n",
       "      <td>1</td>\n",
       "      <td>0</td>\n",
       "      <td>0</td>\n",
       "      <td>0</td>\n",
       "    </tr>\n",
       "    <tr>\n",
       "      <td>1</td>\n",
       "      <td>8776</td>\n",
       "      <td>0.0</td>\n",
       "      <td>1399</td>\n",
       "      <td>34.698766</td>\n",
       "      <td>-2.147466</td>\n",
       "      <td>280</td>\n",
       "      <td>train</td>\n",
       "      <td>3.000000</td>\n",
       "      <td>0</td>\n",
       "      <td>0</td>\n",
       "      <td>...</td>\n",
       "      <td>0</td>\n",
       "      <td>1</td>\n",
       "      <td>0</td>\n",
       "      <td>0</td>\n",
       "      <td>0</td>\n",
       "      <td>0</td>\n",
       "      <td>0</td>\n",
       "      <td>1</td>\n",
       "      <td>0</td>\n",
       "      <td>0</td>\n",
       "    </tr>\n",
       "    <tr>\n",
       "      <td>2</td>\n",
       "      <td>34310</td>\n",
       "      <td>25.0</td>\n",
       "      <td>686</td>\n",
       "      <td>37.460664</td>\n",
       "      <td>-3.821329</td>\n",
       "      <td>250</td>\n",
       "      <td>train</td>\n",
       "      <td>4.000000</td>\n",
       "      <td>0</td>\n",
       "      <td>0</td>\n",
       "      <td>...</td>\n",
       "      <td>0</td>\n",
       "      <td>0</td>\n",
       "      <td>0</td>\n",
       "      <td>0</td>\n",
       "      <td>0</td>\n",
       "      <td>0</td>\n",
       "      <td>1</td>\n",
       "      <td>0</td>\n",
       "      <td>0</td>\n",
       "      <td>0</td>\n",
       "    </tr>\n",
       "    <tr>\n",
       "      <td>3</td>\n",
       "      <td>67743</td>\n",
       "      <td>0.0</td>\n",
       "      <td>263</td>\n",
       "      <td>38.486161</td>\n",
       "      <td>-11.155298</td>\n",
       "      <td>58</td>\n",
       "      <td>train</td>\n",
       "      <td>27.000000</td>\n",
       "      <td>0</td>\n",
       "      <td>0</td>\n",
       "      <td>...</td>\n",
       "      <td>0</td>\n",
       "      <td>0</td>\n",
       "      <td>0</td>\n",
       "      <td>0</td>\n",
       "      <td>0</td>\n",
       "      <td>1</td>\n",
       "      <td>0</td>\n",
       "      <td>0</td>\n",
       "      <td>0</td>\n",
       "      <td>0</td>\n",
       "    </tr>\n",
       "    <tr>\n",
       "      <td>4</td>\n",
       "      <td>19728</td>\n",
       "      <td>0.0</td>\n",
       "      <td>0</td>\n",
       "      <td>31.130847</td>\n",
       "      <td>-1.825359</td>\n",
       "      <td>0</td>\n",
       "      <td>train</td>\n",
       "      <td>15.295624</td>\n",
       "      <td>0</td>\n",
       "      <td>0</td>\n",
       "      <td>...</td>\n",
       "      <td>0</td>\n",
       "      <td>1</td>\n",
       "      <td>0</td>\n",
       "      <td>0</td>\n",
       "      <td>0</td>\n",
       "      <td>0</td>\n",
       "      <td>0</td>\n",
       "      <td>0</td>\n",
       "      <td>1</td>\n",
       "      <td>0</td>\n",
       "    </tr>\n",
       "  </tbody>\n",
       "</table>\n",
       "<p>5 rows × 31356 columns</p>\n",
       "</div>"
      ],
      "text/plain": [
       "      id  amount_tsh  gps_height  longitude   latitude  population sample  \\\n",
       "0  69572      6000.0        1390  34.938093  -9.856322         109  train   \n",
       "1   8776         0.0        1399  34.698766  -2.147466         280  train   \n",
       "2  34310        25.0         686  37.460664  -3.821329         250  train   \n",
       "3  67743         0.0         263  38.486161 -11.155298          58  train   \n",
       "4  19728         0.0           0  31.130847  -1.825359           0  train   \n",
       "\n",
       "         age  basin_Internal  basin_Lake Nyasa  ...  source_type_other  \\\n",
       "0  12.000000               0                 1  ...                  0   \n",
       "1   3.000000               0                 0  ...                  0   \n",
       "2   4.000000               0                 0  ...                  0   \n",
       "3  27.000000               0                 0  ...                  0   \n",
       "4  15.295624               0                 0  ...                  0   \n",
       "\n",
       "   source_type_rainwater harvesting  source_type_river/lake  \\\n",
       "0                                 0                       0   \n",
       "1                                 1                       0   \n",
       "2                                 0                       0   \n",
       "3                                 0                       0   \n",
       "4                                 1                       0   \n",
       "\n",
       "   source_type_shallow well  source_type_spring  quantity_group_dry  \\\n",
       "0                         0                   1                   0   \n",
       "1                         0                   0                   0   \n",
       "2                         0                   0                   0   \n",
       "3                         0                   0                   1   \n",
       "4                         0                   0                   0   \n",
       "\n",
       "   quantity_group_enough  quantity_group_insufficient  \\\n",
       "0                      1                            0   \n",
       "1                      0                            1   \n",
       "2                      1                            0   \n",
       "3                      0                            0   \n",
       "4                      0                            0   \n",
       "\n",
       "   quantity_group_seasonal  quantity_group_unknown  \n",
       "0                        0                       0  \n",
       "1                        0                       0  \n",
       "2                        0                       0  \n",
       "3                        0                       0  \n",
       "4                        1                       0  \n",
       "\n",
       "[5 rows x 31356 columns]"
      ]
     },
     "execution_count": 24,
     "metadata": {},
     "output_type": "execute_result"
    }
   ],
   "source": [
    "df_new.head(5)"
   ]
  },
  {
   "cell_type": "markdown",
   "metadata": {},
   "source": [
    "Следующий код изменяет названия колонок в датафрейме на правильные: убирает некоторые символы _\"[ , ] < $\"_ . Это необходимо для обучения **xgboost**."
   ]
  },
  {
   "cell_type": "code",
   "execution_count": 25,
   "metadata": {},
   "outputs": [],
   "source": [
    "mylist = df_new.columns.values.tolist()\n",
    "\n",
    "def change_col(mylist):\n",
    "    dictionary = dict()\n",
    "    arr = ['[', ',', ']', '<', '$']\n",
    "    for i in range(len(mylist)):\n",
    "        key = mylist[i]\n",
    "        name = mylist[i]\n",
    "        for x in arr:\n",
    "            name = name.replace(x, \"__\")\n",
    "        dictionary[key] = name\n",
    "    return dictionary\n",
    "\n",
    "dictionary = change_col(mylist)\n",
    "df_new.rename(columns = dictionary, inplace=True)"
   ]
  },
  {
   "cell_type": "markdown",
   "metadata": {},
   "source": [
    "Отделим обучение и тест:"
   ]
  },
  {
   "cell_type": "code",
   "execution_count": 26,
   "metadata": {},
   "outputs": [],
   "source": [
    "train = df_new[df_new['sample']=='train'].drop(columns='sample')\n",
    "test = df_new[df_new['sample']=='test'].drop(columns='sample')"
   ]
  },
  {
   "cell_type": "markdown",
   "metadata": {},
   "source": [
    "По итогу, получилось 31354 признаков."
   ]
  },
  {
   "cell_type": "code",
   "execution_count": 27,
   "metadata": {},
   "outputs": [
    {
     "data": {
      "text/plain": [
       "31355"
      ]
     },
     "execution_count": 27,
     "metadata": {},
     "output_type": "execute_result"
    }
   ],
   "source": [
    "len(train.T)"
   ]
  },
  {
   "cell_type": "code",
   "execution_count": 28,
   "metadata": {},
   "outputs": [],
   "source": [
    "X_train = train[train.columns[1:]]"
   ]
  },
  {
   "cell_type": "code",
   "execution_count": 29,
   "metadata": {},
   "outputs": [
    {
     "data": {
      "text/plain": [
       "31354"
      ]
     },
     "execution_count": 29,
     "metadata": {},
     "output_type": "execute_result"
    }
   ],
   "source": [
    "len(X_train.T)"
   ]
  },
  {
   "cell_type": "markdown",
   "metadata": {},
   "source": [
    "# Feature Selection"
   ]
  },
  {
   "cell_type": "markdown",
   "metadata": {},
   "source": [
    "На примере модели градиентного бустинга отберём информативные признаки для дальнейшего обучения моделей, воспользовавшись атрибутом `feature_importances_`. Обучим `XGBClassifier` с параметрами по умолчанию, на всех признаках:"
   ]
  },
  {
   "cell_type": "code",
   "execution_count": 36,
   "metadata": {},
   "outputs": [],
   "source": [
    "model = XGBClassifier()"
   ]
  },
  {
   "cell_type": "code",
   "execution_count": 37,
   "metadata": {},
   "outputs": [
    {
     "name": "stdout",
     "output_type": "stream",
     "text": [
      "[0.0148682  0.00307455 0.00594026 ... 0.         0.         0.        ]\n"
     ]
    }
   ],
   "source": [
    "model.fit(X_train, y_train)\n",
    "# feature importance\n",
    "print(model.feature_importances_)"
   ]
  },
  {
   "cell_type": "markdown",
   "metadata": {},
   "source": [
    "Создадим список фичей, которые имеют показатель информативности не равный нулю, а также запишем в файл этот список:"
   ]
  },
  {
   "cell_type": "code",
   "execution_count": 41,
   "metadata": {
    "scrolled": true
   },
   "outputs": [
    {
     "name": "stdout",
     "output_type": "stream",
     "text": [
      "amount_tsh 0.014868195\n",
      "gps_height 0.003074548\n",
      "longitude 0.005940264\n",
      "latitude 0.0022264908\n",
      "population 0.0016235099\n",
      "age 0.015179689\n",
      "district_code_1 0.0032024395\n",
      "district_code_2 0.0014591052\n",
      "district_code_30 0.008233742\n",
      "district_code_33 0.0037260007\n",
      "district_code_4 0.0052943276\n",
      "district_code_53 0.0034404695\n",
      "district_code_7 0.0012771556\n",
      "quality_group_good 0.0010468911\n",
      "quality_group_milky 0.003082327\n",
      "quality_group_unknown 0.007608568\n",
      "quantity_group_dry 0.05733152\n",
      "quantity_group_enough 0.015393305\n",
      "quantity_group_insufficient 0.0011542039\n",
      "quantity_group_seasonal 8.8245106e-05\n",
      "quantity_group_unknown 0.006565856\n",
      "public_meeting_False 0.005753471\n",
      "public_meeting_True 0.0066441256\n",
      "public_meeting_my_uniq_na 0.0037100248\n",
      "extraction_type_group_afridev 0.002094489\n",
      "extraction_type_group_gravity 0.0077275173\n",
      "extraction_type_group_india mark ii 0.00065714936\n",
      "extraction_type_group_nira/tanira 0.0062402952\n",
      "extraction_type_group_other 0.038367353\n",
      "extraction_type_group_other handpump 0.0009227671\n",
      "extraction_type_group_submersible 0.006264825\n",
      "extraction_type_group_swn 80 9.575231e-05\n",
      "waterpoint_type_group_communal standpipe 0.0015218933\n",
      "waterpoint_type_group_hand pump 0.0013252405\n",
      "waterpoint_type_group_improved spring 0.003624179\n",
      "waterpoint_type_group_other 0.058841884\n",
      "source_lake 0.008329723\n",
      "source_machine dbh 0.004464049\n",
      "source_rainwater harvesting 0.0074215066\n",
      "source_river 0.0034266515\n",
      "source_shallow well 0.001382609\n",
      "source_spring 0.006885779\n",
      "management_company 0.013810162\n",
      "management_other 0.0030343332\n",
      "management_private operator 0.0046759355\n",
      "management_vwc 0.010120225\n",
      "management_wua 0.00083529286\n",
      "management_wug 0.00019857426\n",
      "lga_Bariadi 0.007052127\n",
      "lga_Bukoba Rural 0.0028546823\n",
      "lga_Chamwino 0.0031784924\n",
      "lga_Chunya 0.006099926\n",
      "lga_Dodoma Urban 0.0032589599\n",
      "lga_Geita 0.0038008762\n",
      "lga_Iringa Rural 0.0038584375\n",
      "lga_Kahama 0.008793864\n",
      "lga_Karatu 0.0036502085\n",
      "lga_Kasulu 0.0039190464\n",
      "lga_Kibondo 0.0039487155\n",
      "lga_Kilolo 0.0033770758\n",
      "lga_Kisarawe 0.0032358551\n",
      "lga_Kondoa 0.004556079\n",
      "lga_Kongwa 0.004191716\n",
      "lga_Kwimba 0.0028271498\n",
      "lga_Kyela 0.004063463\n",
      "lga_Masasi 0.00056979817\n",
      "lga_Mbeya Rural 0.003452872\n",
      "lga_Mbozi 0.0032889356\n",
      "lga_Mkinga 0.0026924512\n",
      "lga_Morogoro Rural 0.00037566363\n",
      "lga_Moshi Rural 0.00710912\n",
      "lga_Muleba 0.003950151\n",
      "lga_Mwanga 0.0006537309\n",
      "lga_Pangani 0.0034706516\n",
      "lga_Rombo 0.004686977\n",
      "lga_Rungwe 0.0050313417\n",
      "lga_Same 0.002552251\n",
      "lga_Sengerema 0.0017326064\n",
      "lga_Shinyanga Rural 0.0017214761\n",
      "lga_Siha 0.0027786747\n",
      "lga_Singida Rural 0.00527679\n",
      "lga_Singida Urban 0.0013678697\n",
      "lga_Songea Rural 0.0041145757\n",
      "lga_Ukerewe 0.0042161914\n",
      "lga_Ulanga 0.00071795244\n",
      "extraction_type_ksb 0.006455964\n",
      "extraction_type_submersible 0.0014339498\n",
      "subvillage_Barai 0.00024263526\n",
      "subvillage_Bugoba 0.00067438517\n",
      "subvillage_Bukuma 0.00016810084\n",
      "subvillage_Ilulwe 0.0007020743\n",
      "subvillage_Kayuki 0.004801592\n",
      "subvillage_Mbwawa Shule 0.00042794418\n",
      "subvillage_Mkuyuni 0.0027722537\n",
      "subvillage_Nakayale 0.0009900838\n",
      "subvillage_Nasai 0.00056592794\n",
      "subvillage_Ufana 0.00023692228\n",
      "region_Arusha 0.005783481\n",
      "region_Iringa 0.023807803\n",
      "region_Mara 0.0058789225\n",
      "region_Mwanza 0.0061000707\n",
      "region_Pwani 0.0019368471\n",
      "region_Shinyanga 0.0026749163\n",
      "region_Singida 0.0020407708\n",
      "region_Tanga 0.0028223472\n",
      "management_group_commercial 0.0019485378\n",
      "management_group_user-group 0.0044095414\n",
      "installer_Adra/Community 0.003678011\n",
      "installer_Centr 0.0034479767\n",
      "installer_Commu 0.0031482596\n",
      "installer_Communit 0.0020359862\n",
      "installer_Community 0.0020450687\n",
      "installer_DA 0.003121899\n",
      "installer_DW 0.00024097903\n",
      "installer_DWE 0.006508309\n",
      "installer_District council 0.0035061173\n",
      "installer_Dmdd 0.0030415507\n",
      "installer_Go 0.00011044052\n",
      "installer_Government 0.008312991\n",
      "installer_ISF 0.0032149993\n",
      "installer_MA 0.004845017\n",
      "installer_RWE 0.004396679\n",
      "installer_RWE/DWE 0.0041159163\n",
      "installer_UN 0.0011835847\n",
      "installer_Unisef 0.0027442388\n",
      "installer_Villagers 0.00033776683\n",
      "installer_World vision 0.0027391198\n",
      "installer_my_uniq_na 0.004255111\n",
      "funder_Adra 0.0012101105\n",
      "funder_African 0.00514174\n",
      "funder_Amref 0.0029902216\n",
      "funder_Dwsp 0.0040300116\n",
      "funder_Ga 0.002860505\n",
      "funder_Government Of Tanzania 0.013068201\n",
      "funder_Hesawa 0.0020388498\n",
      "funder_Isf 0.005443966\n",
      "funder_Kiliwater 0.0010379846\n",
      "funder_Kkkt 0.0007469558\n",
      "funder_Lga 0.00446014\n",
      "funder_Ministry Of Water 0.0023235572\n",
      "funder_Peace Cope 0.0032608453\n",
      "funder_Unicef 0.0039768927\n",
      "funder_Water 0.0005045024\n",
      "funder_World Bank 0.0026717966\n",
      "funder_my_uniq_na 0.0028237337\n",
      "ward_Dongobesh 0.0026177873\n",
      "ward_Dutwa 0.00025254284\n",
      "ward_Etaro 0.0013959376\n",
      "ward_Ilima 0.0029355136\n",
      "ward_Keni Mengeni 0.0008789145\n",
      "ward_Kibimba 0.0018298796\n",
      "ward_Kigonsera 0.001074727\n",
      "ward_Kihurio 0.003424807\n",
      "ward_Kisondela 0.003945452\n",
      "ward_Maghojea 0.0014324014\n",
      "ward_Makuro 0.0013009356\n",
      "ward_Malolo 0.0011085003\n",
      "ward_Manchali 0.00241697\n",
      "ward_Masakta 0.0016734332\n",
      "ward_Mbuyuni 0.00059485325\n",
      "ward_Mkamba 0.00037491793\n",
      "ward_Mlimba 0.0036920444\n",
      "ward_Njengwa 0.0013240865\n",
      "ward_Nkoaranga 0.004444519\n",
      "ward_Nkoma 0.0018680635\n",
      "ward_Nkungulu 0.0043199277\n",
      "ward_Nyabubinza 0.00081243034\n",
      "ward_Old Moshi Mashariki 0.0017922854\n",
      "ward_Pahi 0.0036401057\n",
      "ward_Songwa 0.0023728115\n",
      "ward_Utengule Usongwe 0.00063583464\n",
      "ward_Wanging'ombe 0.00058973493\n",
      "ward_Zagayu 0.0002150274\n",
      "permit_False 0.0031915777\n",
      "permit_True 0.0047011585\n",
      "payment_never pay 0.010320705\n",
      "payment_pay monthly 0.0009978993\n",
      "payment_pay per bucket 0.0056478432\n",
      "payment_pay when scheme fails 0.0003167643\n",
      "payment_unknown 0.004102712\n",
      "source_type_borehole 0.008577911\n",
      "source_type_river/lake 0.0066898693\n",
      "source_class_groundwater 0.010415418\n",
      "source_class_surface 0.0060522454\n",
      "waterpoint_type_communal standpipe 0.00962755\n",
      "waterpoint_type_communal standpipe multiple 0.01283537\n",
      "basin_Internal 0.006722975\n",
      "basin_Lake Nyasa 0.00779682\n",
      "basin_Lake Rukwa 0.0068721087\n",
      "basin_Lake Tanganyika 0.00011358869\n",
      "basin_Lake Victoria 0.0014235568\n",
      "basin_Pangani 0.003978325\n",
      "extraction_type_class_handpump 0.0013175169\n",
      "extraction_type_class_motorpump 0.01174734\n",
      "region_code_11 0.0031888601\n",
      "region_code_17 0.006373271\n",
      "region_code_19 0.0025995432\n",
      "scheme_management_Company 0.0026419794\n",
      "scheme_management_VWC 0.0012589328\n",
      "scheme_management_WUA 0.00326248\n",
      "scheme_management_Water Board 0.0066102217\n",
      "scheme_management_Water authority 0.0035605805\n",
      "scheme_management_my_uniq_na 0.00090132386\n",
      "scheme_name_Amani Water Supply 0.0023536605\n",
      "scheme_name_Chal 0.0023683982\n",
      "scheme_name_Ipuli pipes water supply 0.0018794561\n",
      "scheme_name_Jihoro 0.00026570016\n",
      "scheme_name_K 0.007162645\n",
      "scheme_name_Kan 0.0035289447\n",
      "scheme_name_Kidege forest 0.0030216915\n",
      "scheme_name_Kidia kilemapunda 0.002992246\n",
      "scheme_name_Kihoro 0.00027284614\n",
      "scheme_name_Kite 0.00014668533\n",
      "scheme_name_Kwamazandu water sup 0.00044141192\n",
      "scheme_name_Maambreni gravity water supply 0.0037060762\n",
      "scheme_name_Mbati Water Supply 0.0034975326\n",
      "scheme_name_Mradi wa maji Kiliwi 0.0009764318\n",
      "scheme_name_Mradi wa maji wa mpitimbi 0.001782739\n",
      "scheme_name_Ms 0.0026628578\n",
      "scheme_name_Ntom 0.0030625155\n",
      "scheme_name_Tutu 0.002119675\n",
      "scheme_name_WAUSA 0.0019694858\n",
      "scheme_name_my_uniq_na 0.005104418\n",
      "scheme_name_wanging'ombe water supply s 0.002886499\n",
      "geohash_kxr 0.0019205883\n",
      "geohash_kxx 0.0011138933\n",
      "geohash_ky2 0.004737204\n",
      "geohash_ky5 0.0061928635\n",
      "geohash_ky7 0.0016631765\n",
      "geohash_kyg 0.0027717252\n",
      "geohash_kz0 0.0019665274\n",
      "geohash_kz5 0.009162332\n",
      "geohash_kz8 0.006344414\n"
     ]
    }
   ],
   "source": [
    "mycolumns = X_train.columns.values.tolist()\n",
    "imp_feat = []\n",
    "dictionary2 = dict()\n",
    "for i in range(len(model.feature_importances_)):\n",
    "    if model.feature_importances_[i] != 0:\n",
    "        value = model.feature_importances_[i]\n",
    "        key = mycolumns[i]\n",
    "        dictionary2[key] = value\n",
    "        imp_feat.append(key)\n",
    "        print(key, value)"
   ]
  },
  {
   "cell_type": "code",
   "execution_count": 57,
   "metadata": {},
   "outputs": [],
   "source": [
    "# сохранить фичи в файл\n",
    "features = pd.DataFrame.from_dict(dictionary2, orient='index')\n",
    "features.reset_index(level=0, inplace=True)\n",
    "col_names = ['feature', 'importance']\n",
    "features.columns = col_names"
   ]
  },
  {
   "cell_type": "code",
   "execution_count": 58,
   "metadata": {
    "scrolled": true
   },
   "outputs": [
    {
     "data": {
      "text/html": [
       "<div>\n",
       "<style scoped>\n",
       "    .dataframe tbody tr th:only-of-type {\n",
       "        vertical-align: middle;\n",
       "    }\n",
       "\n",
       "    .dataframe tbody tr th {\n",
       "        vertical-align: top;\n",
       "    }\n",
       "\n",
       "    .dataframe thead th {\n",
       "        text-align: right;\n",
       "    }\n",
       "</style>\n",
       "<table border=\"1\" class=\"dataframe\">\n",
       "  <thead>\n",
       "    <tr style=\"text-align: right;\">\n",
       "      <th></th>\n",
       "      <th>feature</th>\n",
       "      <th>importance</th>\n",
       "    </tr>\n",
       "  </thead>\n",
       "  <tbody>\n",
       "    <tr>\n",
       "      <td>0</td>\n",
       "      <td>amount_tsh</td>\n",
       "      <td>0.014868</td>\n",
       "    </tr>\n",
       "    <tr>\n",
       "      <td>1</td>\n",
       "      <td>gps_height</td>\n",
       "      <td>0.003075</td>\n",
       "    </tr>\n",
       "    <tr>\n",
       "      <td>2</td>\n",
       "      <td>longitude</td>\n",
       "      <td>0.005940</td>\n",
       "    </tr>\n",
       "  </tbody>\n",
       "</table>\n",
       "</div>"
      ],
      "text/plain": [
       "      feature  importance\n",
       "0  amount_tsh    0.014868\n",
       "1  gps_height    0.003075\n",
       "2   longitude    0.005940"
      ]
     },
     "execution_count": 58,
     "metadata": {},
     "output_type": "execute_result"
    }
   ],
   "source": [
    "features.head(3)"
   ]
  },
  {
   "cell_type": "code",
   "execution_count": 59,
   "metadata": {},
   "outputs": [],
   "source": [
    "features_csv = pd.DataFrame(zip(features['feature'], features['importance']), \n",
    "                    columns = ['feature', 'importance']).to_csv('importance_features.csv',\n",
    "                                                                  sep=',',\n",
    "                                                                  index=False)"
   ]
  },
  {
   "cell_type": "code",
   "execution_count": 46,
   "metadata": {},
   "outputs": [],
   "source": [
    "# открытие файла\n",
    "imp_f = pd.read_csv('importance_features.csv', sep=',')\n",
    "imp_feat = imp_f['feature'].to_list()"
   ]
  },
  {
   "cell_type": "markdown",
   "metadata": {},
   "source": [
    "Из 31354 отобрали 233 признака:"
   ]
  },
  {
   "cell_type": "code",
   "execution_count": 47,
   "metadata": {},
   "outputs": [
    {
     "name": "stdout",
     "output_type": "stream",
     "text": [
      "233\n"
     ]
    }
   ],
   "source": [
    "print(len(imp_feat))"
   ]
  },
  {
   "cell_type": "markdown",
   "metadata": {},
   "source": [
    "Сравним качество бустинга, обученного на всём признаковом пространстве, с обученным только на информативных признаках: "
   ]
  },
  {
   "cell_type": "code",
   "execution_count": 53,
   "metadata": {},
   "outputs": [],
   "source": [
    "xgb = XGBClassifier()"
   ]
  },
  {
   "cell_type": "code",
   "execution_count": 54,
   "metadata": {},
   "outputs": [],
   "source": [
    "X_small = X_train[:2000]\n",
    "y_small = y_train[:2000]"
   ]
  },
  {
   "cell_type": "code",
   "execution_count": 56,
   "metadata": {},
   "outputs": [
    {
     "name": "stdout",
     "output_type": "stream",
     "text": [
      "0.7239983611797705\n"
     ]
    }
   ],
   "source": [
    "print(cross_val_score(xgb, X_small[imp_feat], y_small, scoring = 'accuracy', cv=3).mean())"
   ]
  },
  {
   "cell_type": "code",
   "execution_count": 57,
   "metadata": {},
   "outputs": [
    {
     "name": "stdout",
     "output_type": "stream",
     "text": [
      "0.7215003609306457\n"
     ]
    }
   ],
   "source": [
    "print(cross_val_score(xgb, X_small, y_small, scoring = 'accuracy', cv=3).mean())"
   ]
  },
  {
   "cell_type": "markdown",
   "metadata": {},
   "source": [
    "Сделаем вывод, что обучать модель на всех признаках неэффективно. Эффективнее отобрать информативные признаки и обучаться только на них."
   ]
  },
  {
   "cell_type": "markdown",
   "metadata": {},
   "source": [
    "А теперь начнём обучать модели на новом признаковом пространстве: "
   ]
  },
  {
   "cell_type": "code",
   "execution_count": 485,
   "metadata": {},
   "outputs": [
    {
     "data": {
      "text/html": [
       "<div>\n",
       "<style scoped>\n",
       "    .dataframe tbody tr th:only-of-type {\n",
       "        vertical-align: middle;\n",
       "    }\n",
       "\n",
       "    .dataframe tbody tr th {\n",
       "        vertical-align: top;\n",
       "    }\n",
       "\n",
       "    .dataframe thead th {\n",
       "        text-align: right;\n",
       "    }\n",
       "</style>\n",
       "<table border=\"1\" class=\"dataframe\">\n",
       "  <thead>\n",
       "    <tr style=\"text-align: right;\">\n",
       "      <th></th>\n",
       "      <th>amount_tsh</th>\n",
       "      <th>gps_height</th>\n",
       "      <th>longitude</th>\n",
       "      <th>latitude</th>\n",
       "      <th>population</th>\n",
       "      <th>age</th>\n",
       "      <th>basin_Internal</th>\n",
       "      <th>basin_Lake Nyasa</th>\n",
       "      <th>basin_Lake Rukwa</th>\n",
       "      <th>basin_Lake Tanganyika</th>\n",
       "      <th>...</th>\n",
       "      <th>source_type_other</th>\n",
       "      <th>source_type_rainwater harvesting</th>\n",
       "      <th>source_type_river/lake</th>\n",
       "      <th>source_type_shallow well</th>\n",
       "      <th>source_type_spring</th>\n",
       "      <th>quantity_group_dry</th>\n",
       "      <th>quantity_group_enough</th>\n",
       "      <th>quantity_group_insufficient</th>\n",
       "      <th>quantity_group_seasonal</th>\n",
       "      <th>quantity_group_unknown</th>\n",
       "    </tr>\n",
       "  </thead>\n",
       "  <tbody>\n",
       "    <tr>\n",
       "      <td>0</td>\n",
       "      <td>6000.0</td>\n",
       "      <td>1390</td>\n",
       "      <td>34.938093</td>\n",
       "      <td>-9.856322</td>\n",
       "      <td>109</td>\n",
       "      <td>12.000000</td>\n",
       "      <td>0</td>\n",
       "      <td>1</td>\n",
       "      <td>0</td>\n",
       "      <td>0</td>\n",
       "      <td>...</td>\n",
       "      <td>0</td>\n",
       "      <td>0</td>\n",
       "      <td>0</td>\n",
       "      <td>0</td>\n",
       "      <td>1</td>\n",
       "      <td>0</td>\n",
       "      <td>1</td>\n",
       "      <td>0</td>\n",
       "      <td>0</td>\n",
       "      <td>0</td>\n",
       "    </tr>\n",
       "    <tr>\n",
       "      <td>1</td>\n",
       "      <td>0.0</td>\n",
       "      <td>1399</td>\n",
       "      <td>34.698766</td>\n",
       "      <td>-2.147466</td>\n",
       "      <td>280</td>\n",
       "      <td>3.000000</td>\n",
       "      <td>0</td>\n",
       "      <td>0</td>\n",
       "      <td>0</td>\n",
       "      <td>0</td>\n",
       "      <td>...</td>\n",
       "      <td>0</td>\n",
       "      <td>1</td>\n",
       "      <td>0</td>\n",
       "      <td>0</td>\n",
       "      <td>0</td>\n",
       "      <td>0</td>\n",
       "      <td>0</td>\n",
       "      <td>1</td>\n",
       "      <td>0</td>\n",
       "      <td>0</td>\n",
       "    </tr>\n",
       "    <tr>\n",
       "      <td>2</td>\n",
       "      <td>25.0</td>\n",
       "      <td>686</td>\n",
       "      <td>37.460664</td>\n",
       "      <td>-3.821329</td>\n",
       "      <td>250</td>\n",
       "      <td>4.000000</td>\n",
       "      <td>0</td>\n",
       "      <td>0</td>\n",
       "      <td>0</td>\n",
       "      <td>0</td>\n",
       "      <td>...</td>\n",
       "      <td>0</td>\n",
       "      <td>0</td>\n",
       "      <td>0</td>\n",
       "      <td>0</td>\n",
       "      <td>0</td>\n",
       "      <td>0</td>\n",
       "      <td>1</td>\n",
       "      <td>0</td>\n",
       "      <td>0</td>\n",
       "      <td>0</td>\n",
       "    </tr>\n",
       "    <tr>\n",
       "      <td>3</td>\n",
       "      <td>0.0</td>\n",
       "      <td>263</td>\n",
       "      <td>38.486161</td>\n",
       "      <td>-11.155298</td>\n",
       "      <td>58</td>\n",
       "      <td>27.000000</td>\n",
       "      <td>0</td>\n",
       "      <td>0</td>\n",
       "      <td>0</td>\n",
       "      <td>0</td>\n",
       "      <td>...</td>\n",
       "      <td>0</td>\n",
       "      <td>0</td>\n",
       "      <td>0</td>\n",
       "      <td>0</td>\n",
       "      <td>0</td>\n",
       "      <td>1</td>\n",
       "      <td>0</td>\n",
       "      <td>0</td>\n",
       "      <td>0</td>\n",
       "      <td>0</td>\n",
       "    </tr>\n",
       "    <tr>\n",
       "      <td>4</td>\n",
       "      <td>0.0</td>\n",
       "      <td>0</td>\n",
       "      <td>31.130847</td>\n",
       "      <td>-1.825359</td>\n",
       "      <td>0</td>\n",
       "      <td>15.295624</td>\n",
       "      <td>0</td>\n",
       "      <td>0</td>\n",
       "      <td>0</td>\n",
       "      <td>0</td>\n",
       "      <td>...</td>\n",
       "      <td>0</td>\n",
       "      <td>1</td>\n",
       "      <td>0</td>\n",
       "      <td>0</td>\n",
       "      <td>0</td>\n",
       "      <td>0</td>\n",
       "      <td>0</td>\n",
       "      <td>0</td>\n",
       "      <td>1</td>\n",
       "      <td>0</td>\n",
       "    </tr>\n",
       "    <tr>\n",
       "      <td>...</td>\n",
       "      <td>...</td>\n",
       "      <td>...</td>\n",
       "      <td>...</td>\n",
       "      <td>...</td>\n",
       "      <td>...</td>\n",
       "      <td>...</td>\n",
       "      <td>...</td>\n",
       "      <td>...</td>\n",
       "      <td>...</td>\n",
       "      <td>...</td>\n",
       "      <td>...</td>\n",
       "      <td>...</td>\n",
       "      <td>...</td>\n",
       "      <td>...</td>\n",
       "      <td>...</td>\n",
       "      <td>...</td>\n",
       "      <td>...</td>\n",
       "      <td>...</td>\n",
       "      <td>...</td>\n",
       "      <td>...</td>\n",
       "      <td>...</td>\n",
       "    </tr>\n",
       "    <tr>\n",
       "      <td>59395</td>\n",
       "      <td>10.0</td>\n",
       "      <td>1210</td>\n",
       "      <td>37.169807</td>\n",
       "      <td>-3.253847</td>\n",
       "      <td>125</td>\n",
       "      <td>14.000000</td>\n",
       "      <td>0</td>\n",
       "      <td>0</td>\n",
       "      <td>0</td>\n",
       "      <td>0</td>\n",
       "      <td>...</td>\n",
       "      <td>0</td>\n",
       "      <td>0</td>\n",
       "      <td>0</td>\n",
       "      <td>0</td>\n",
       "      <td>1</td>\n",
       "      <td>0</td>\n",
       "      <td>1</td>\n",
       "      <td>0</td>\n",
       "      <td>0</td>\n",
       "      <td>0</td>\n",
       "    </tr>\n",
       "    <tr>\n",
       "      <td>59396</td>\n",
       "      <td>4700.0</td>\n",
       "      <td>1212</td>\n",
       "      <td>35.249991</td>\n",
       "      <td>-9.070629</td>\n",
       "      <td>56</td>\n",
       "      <td>15.000000</td>\n",
       "      <td>0</td>\n",
       "      <td>0</td>\n",
       "      <td>0</td>\n",
       "      <td>0</td>\n",
       "      <td>...</td>\n",
       "      <td>0</td>\n",
       "      <td>0</td>\n",
       "      <td>1</td>\n",
       "      <td>0</td>\n",
       "      <td>0</td>\n",
       "      <td>0</td>\n",
       "      <td>1</td>\n",
       "      <td>0</td>\n",
       "      <td>0</td>\n",
       "      <td>0</td>\n",
       "    </tr>\n",
       "    <tr>\n",
       "      <td>59397</td>\n",
       "      <td>0.0</td>\n",
       "      <td>0</td>\n",
       "      <td>34.017087</td>\n",
       "      <td>-8.750434</td>\n",
       "      <td>0</td>\n",
       "      <td>15.295624</td>\n",
       "      <td>0</td>\n",
       "      <td>0</td>\n",
       "      <td>0</td>\n",
       "      <td>0</td>\n",
       "      <td>...</td>\n",
       "      <td>0</td>\n",
       "      <td>0</td>\n",
       "      <td>0</td>\n",
       "      <td>0</td>\n",
       "      <td>0</td>\n",
       "      <td>0</td>\n",
       "      <td>1</td>\n",
       "      <td>0</td>\n",
       "      <td>0</td>\n",
       "      <td>0</td>\n",
       "    </tr>\n",
       "    <tr>\n",
       "      <td>59398</td>\n",
       "      <td>0.0</td>\n",
       "      <td>0</td>\n",
       "      <td>35.861315</td>\n",
       "      <td>-6.378573</td>\n",
       "      <td>0</td>\n",
       "      <td>15.295624</td>\n",
       "      <td>0</td>\n",
       "      <td>0</td>\n",
       "      <td>0</td>\n",
       "      <td>0</td>\n",
       "      <td>...</td>\n",
       "      <td>0</td>\n",
       "      <td>0</td>\n",
       "      <td>0</td>\n",
       "      <td>1</td>\n",
       "      <td>0</td>\n",
       "      <td>0</td>\n",
       "      <td>0</td>\n",
       "      <td>1</td>\n",
       "      <td>0</td>\n",
       "      <td>0</td>\n",
       "    </tr>\n",
       "    <tr>\n",
       "      <td>59399</td>\n",
       "      <td>0.0</td>\n",
       "      <td>191</td>\n",
       "      <td>38.104048</td>\n",
       "      <td>-6.747464</td>\n",
       "      <td>150</td>\n",
       "      <td>9.000000</td>\n",
       "      <td>0</td>\n",
       "      <td>0</td>\n",
       "      <td>0</td>\n",
       "      <td>0</td>\n",
       "      <td>...</td>\n",
       "      <td>0</td>\n",
       "      <td>0</td>\n",
       "      <td>0</td>\n",
       "      <td>1</td>\n",
       "      <td>0</td>\n",
       "      <td>0</td>\n",
       "      <td>1</td>\n",
       "      <td>0</td>\n",
       "      <td>0</td>\n",
       "      <td>0</td>\n",
       "    </tr>\n",
       "  </tbody>\n",
       "</table>\n",
       "<p>59400 rows × 31354 columns</p>\n",
       "</div>"
      ],
      "text/plain": [
       "       amount_tsh  gps_height  longitude   latitude  population        age  \\\n",
       "0          6000.0        1390  34.938093  -9.856322         109  12.000000   \n",
       "1             0.0        1399  34.698766  -2.147466         280   3.000000   \n",
       "2            25.0         686  37.460664  -3.821329         250   4.000000   \n",
       "3             0.0         263  38.486161 -11.155298          58  27.000000   \n",
       "4             0.0           0  31.130847  -1.825359           0  15.295624   \n",
       "...           ...         ...        ...        ...         ...        ...   \n",
       "59395        10.0        1210  37.169807  -3.253847         125  14.000000   \n",
       "59396      4700.0        1212  35.249991  -9.070629          56  15.000000   \n",
       "59397         0.0           0  34.017087  -8.750434           0  15.295624   \n",
       "59398         0.0           0  35.861315  -6.378573           0  15.295624   \n",
       "59399         0.0         191  38.104048  -6.747464         150   9.000000   \n",
       "\n",
       "       basin_Internal  basin_Lake Nyasa  basin_Lake Rukwa  \\\n",
       "0                   0                 1                 0   \n",
       "1                   0                 0                 0   \n",
       "2                   0                 0                 0   \n",
       "3                   0                 0                 0   \n",
       "4                   0                 0                 0   \n",
       "...               ...               ...               ...   \n",
       "59395               0                 0                 0   \n",
       "59396               0                 0                 0   \n",
       "59397               0                 0                 0   \n",
       "59398               0                 0                 0   \n",
       "59399               0                 0                 0   \n",
       "\n",
       "       basin_Lake Tanganyika  ...  source_type_other  \\\n",
       "0                          0  ...                  0   \n",
       "1                          0  ...                  0   \n",
       "2                          0  ...                  0   \n",
       "3                          0  ...                  0   \n",
       "4                          0  ...                  0   \n",
       "...                      ...  ...                ...   \n",
       "59395                      0  ...                  0   \n",
       "59396                      0  ...                  0   \n",
       "59397                      0  ...                  0   \n",
       "59398                      0  ...                  0   \n",
       "59399                      0  ...                  0   \n",
       "\n",
       "       source_type_rainwater harvesting  source_type_river/lake  \\\n",
       "0                                     0                       0   \n",
       "1                                     1                       0   \n",
       "2                                     0                       0   \n",
       "3                                     0                       0   \n",
       "4                                     1                       0   \n",
       "...                                 ...                     ...   \n",
       "59395                                 0                       0   \n",
       "59396                                 0                       1   \n",
       "59397                                 0                       0   \n",
       "59398                                 0                       0   \n",
       "59399                                 0                       0   \n",
       "\n",
       "       source_type_shallow well  source_type_spring  quantity_group_dry  \\\n",
       "0                             0                   1                   0   \n",
       "1                             0                   0                   0   \n",
       "2                             0                   0                   0   \n",
       "3                             0                   0                   1   \n",
       "4                             0                   0                   0   \n",
       "...                         ...                 ...                 ...   \n",
       "59395                         0                   1                   0   \n",
       "59396                         0                   0                   0   \n",
       "59397                         0                   0                   0   \n",
       "59398                         1                   0                   0   \n",
       "59399                         1                   0                   0   \n",
       "\n",
       "       quantity_group_enough  quantity_group_insufficient  \\\n",
       "0                          1                            0   \n",
       "1                          0                            1   \n",
       "2                          1                            0   \n",
       "3                          0                            0   \n",
       "4                          0                            0   \n",
       "...                      ...                          ...   \n",
       "59395                      1                            0   \n",
       "59396                      1                            0   \n",
       "59397                      1                            0   \n",
       "59398                      0                            1   \n",
       "59399                      1                            0   \n",
       "\n",
       "       quantity_group_seasonal  quantity_group_unknown  \n",
       "0                            0                       0  \n",
       "1                            0                       0  \n",
       "2                            0                       0  \n",
       "3                            0                       0  \n",
       "4                            1                       0  \n",
       "...                        ...                     ...  \n",
       "59395                        0                       0  \n",
       "59396                        0                       0  \n",
       "59397                        0                       0  \n",
       "59398                        0                       0  \n",
       "59399                        0                       0  \n",
       "\n",
       "[59400 rows x 31354 columns]"
      ]
     },
     "execution_count": 485,
     "metadata": {},
     "output_type": "execute_result"
    }
   ],
   "source": [
    "X_train"
   ]
  },
  {
   "cell_type": "code",
   "execution_count": 543,
   "metadata": {},
   "outputs": [],
   "source": [
    "X_tr = X_train[imp_feat]"
   ]
  },
  {
   "cell_type": "markdown",
   "metadata": {},
   "source": [
    "И закодируем наш таргет с помощью LabelEncoder():"
   ]
  },
  {
   "cell_type": "code",
   "execution_count": 730,
   "metadata": {},
   "outputs": [
    {
     "data": {
      "text/plain": [
       "LabelEncoder()"
      ]
     },
     "execution_count": 730,
     "metadata": {},
     "output_type": "execute_result"
    }
   ],
   "source": [
    "le = LabelEncoder()\n",
    "le.fit(y_train)"
   ]
  },
  {
   "cell_type": "code",
   "execution_count": 731,
   "metadata": {},
   "outputs": [
    {
     "name": "stdout",
     "output_type": "stream",
     "text": [
      "[0 0 0 2 0 0 2] ['functional' 'functional needs repair' 'non functional']\n"
     ]
    }
   ],
   "source": [
    "y_TR = le.transform(y_train)\n",
    "print (y_TR[:7], le.classes_)\n",
    "#le.inverse_transform([0, 0, 1, 2])"
   ]
  },
  {
   "cell_type": "markdown",
   "metadata": {},
   "source": [
    "---"
   ]
  },
  {
   "cell_type": "markdown",
   "metadata": {},
   "source": [
    "# 1 Level: XGBoosting "
   ]
  },
  {
   "cell_type": "markdown",
   "metadata": {},
   "source": [
    "Создадим пайплайн с нашей моделью, а также добавим нормирование данных на первом шаге:"
   ]
  },
  {
   "cell_type": "code",
   "execution_count": 59,
   "metadata": {},
   "outputs": [],
   "source": [
    "mypipeline2 = Pipeline([\n",
    "    ('scaler', StandardScaler()),\n",
    "    ('xgb', XGBClassifier())\n",
    "])"
   ]
  },
  {
   "cell_type": "markdown",
   "metadata": {},
   "source": [
    "С помощью `RandomizedSearchCV` выполним перебор параметров на кроссвалидации, чтобы \"выловить\" наилучшие параметры:"
   ]
  },
  {
   "cell_type": "code",
   "execution_count": 83,
   "metadata": {},
   "outputs": [],
   "source": [
    "param_test1 = {\n",
    "    'xgb__n_estimators' : range(88, 100, 2),\n",
    "    'xgb__max_depth' : range(13, 30, 2),\n",
    "    'xgb__min_child_weight' : range(1, 3, 1),\n",
    "    \n",
    "    'xgb__gamma' : [num / 10 for num in range(5, 9, 1)],\n",
    "    'xgb__subsample' : [(num + 5) / 10 for num in range(4, 6, 1)],\n",
    "    'xgb__colsample_bytree' : [(num + 5) / 10 for num in range(0, 3, 1)]\n",
    "}"
   ]
  },
  {
   "cell_type": "code",
   "execution_count": 84,
   "metadata": {
    "scrolled": true
   },
   "outputs": [
    {
     "name": "stdout",
     "output_type": "stream",
     "text": [
      "Fitting 5 folds for each of 10 candidates, totalling 50 fits\n"
     ]
    },
    {
     "name": "stderr",
     "output_type": "stream",
     "text": [
      "[Parallel(n_jobs=-1)]: Using backend LokyBackend with 4 concurrent workers.\n",
      "/Users/gregor/anaconda2/envs/ipykernel_py3/lib/python3.7/site-packages/joblib/externals/loky/process_executor.py:706: UserWarning: A worker stopped while some jobs were given to the executor. This can be caused by a too short worker timeout or by a memory leak.\n",
      "  \"timeout or by a memory leak.\", UserWarning\n",
      "[Parallel(n_jobs=-1)]: Done  33 tasks      | elapsed: 112.7min\n",
      "[Parallel(n_jobs=-1)]: Done  50 out of  50 | elapsed: 149.5min finished\n"
     ]
    },
    {
     "data": {
      "text/plain": [
       "RandomizedSearchCV(cv=StratifiedKFold(n_splits=5, random_state=123, shuffle=True),\n",
       "                   error_score='raise-deprecating',\n",
       "                   estimator=Pipeline(memory=None,\n",
       "                                      steps=[('scaler',\n",
       "                                              StandardScaler(copy=True,\n",
       "                                                             with_mean=True,\n",
       "                                                             with_std=True)),\n",
       "                                             ('xgb',\n",
       "                                              XGBClassifier(base_score=0.5,\n",
       "                                                            booster='gbtree',\n",
       "                                                            colsample_bylevel=1,\n",
       "                                                            colsample_bynode=1,\n",
       "                                                            colsample_bytree=1,\n",
       "                                                            gamma=0,\n",
       "                                                            learning_rate=0...\n",
       "                   iid='warn', n_iter=10, n_jobs=-1,\n",
       "                   param_distributions={'xgb__colsample_bytree': [0.5, 0.6,\n",
       "                                                                  0.7],\n",
       "                                        'xgb__gamma': [0.5, 0.6, 0.7, 0.8],\n",
       "                                        'xgb__max_depth': range(13, 30, 2),\n",
       "                                        'xgb__min_child_weight': range(1, 3),\n",
       "                                        'xgb__n_estimators': range(88, 100, 2),\n",
       "                                        'xgb__subsample': [0.9, 1.0]},\n",
       "                   pre_dispatch='2*n_jobs', random_state=123, refit=True,\n",
       "                   return_train_score=False, scoring='accuracy', verbose=2)"
      ]
     },
     "execution_count": 84,
     "metadata": {},
     "output_type": "execute_result"
    }
   ],
   "source": [
    "cv = StratifiedKFold(n_splits=5, shuffle=True, random_state=123)\n",
    "\n",
    "hyper_search = RandomizedSearchCV(mypipeline2, param_test1, n_iter=10, scoring='accuracy', \n",
    "                                  cv=cv, n_jobs=-1, refit=True, random_state=123,\n",
    "                                  verbose=2)\n",
    "hyper_search.fit(X_tr, y_train)"
   ]
  },
  {
   "cell_type": "code",
   "execution_count": 85,
   "metadata": {},
   "outputs": [
    {
     "data": {
      "text/plain": [
       "{'xgb__subsample': 0.9,\n",
       " 'xgb__n_estimators': 90,\n",
       " 'xgb__min_child_weight': 1,\n",
       " 'xgb__max_depth': 17,\n",
       " 'xgb__gamma': 0.7,\n",
       " 'xgb__colsample_bytree': 0.6}"
      ]
     },
     "execution_count": 85,
     "metadata": {},
     "output_type": "execute_result"
    }
   ],
   "source": [
    "hyper_search.best_params_"
   ]
  },
  {
   "cell_type": "code",
   "execution_count": 86,
   "metadata": {},
   "outputs": [
    {
     "data": {
      "text/plain": [
       "0.8151178451178451"
      ]
     },
     "execution_count": 86,
     "metadata": {},
     "output_type": "execute_result"
    }
   ],
   "source": [
    "hyper_search.best_score_"
   ]
  },
  {
   "cell_type": "code",
   "execution_count": 87,
   "metadata": {},
   "outputs": [],
   "source": [
    "best_model_xgb = hyper_search.best_estimator_"
   ]
  },
  {
   "cell_type": "markdown",
   "metadata": {},
   "source": [
    "# 1 Level: Random Forest "
   ]
  },
  {
   "cell_type": "markdown",
   "metadata": {},
   "source": [
    "Обучим следующую модель – случайный лес; И найдём лучшие параметры для неё:"
   ]
  },
  {
   "cell_type": "code",
   "execution_count": 120,
   "metadata": {},
   "outputs": [],
   "source": [
    "mypipeline = Pipeline([\n",
    "    ('scaler', StandardScaler()),\n",
    "    ('forest', RandomForestClassifier())\n",
    "])"
   ]
  },
  {
   "cell_type": "code",
   "execution_count": 130,
   "metadata": {},
   "outputs": [],
   "source": [
    "param_grid_base = {\n",
    "              'forest__n_estimators': range(90, 100),\n",
    "              'forest__min_samples_split': range(4, 7),\n",
    "              'forest__min_samples_leaf': [1],\n",
    "              'forest__max_features': range(18, 26),\n",
    "              'forest__max_depth': range(28, 36) }"
   ]
  },
  {
   "cell_type": "code",
   "execution_count": 131,
   "metadata": {
    "scrolled": true
   },
   "outputs": [
    {
     "name": "stdout",
     "output_type": "stream",
     "text": [
      "Fitting 5 folds for each of 30 candidates, totalling 150 fits\n"
     ]
    },
    {
     "name": "stderr",
     "output_type": "stream",
     "text": [
      "[Parallel(n_jobs=-1)]: Using backend LokyBackend with 4 concurrent workers.\n",
      "[Parallel(n_jobs=-1)]: Done  33 tasks      | elapsed:  5.5min\n",
      "[Parallel(n_jobs=-1)]: Done 150 out of 150 | elapsed: 22.3min finished\n"
     ]
    },
    {
     "data": {
      "text/plain": [
       "RandomizedSearchCV(cv=StratifiedKFold(n_splits=5, random_state=123, shuffle=True),\n",
       "                   error_score='raise-deprecating',\n",
       "                   estimator=Pipeline(memory=None,\n",
       "                                      steps=[('scaler',\n",
       "                                              StandardScaler(copy=True,\n",
       "                                                             with_mean=True,\n",
       "                                                             with_std=True)),\n",
       "                                             ('forest',\n",
       "                                              RandomForestClassifier(bootstrap=True,\n",
       "                                                                     class_weight=None,\n",
       "                                                                     criterion='gini',\n",
       "                                                                     max_depth=None,\n",
       "                                                                     max_features='auto',\n",
       "                                                                     max_leaf_nodes=N...\n",
       "                                      verbose=False),\n",
       "                   iid='warn', n_iter=30, n_jobs=-1,\n",
       "                   param_distributions={'forest__max_depth': range(28, 36),\n",
       "                                        'forest__max_features': range(18, 26),\n",
       "                                        'forest__min_samples_leaf': [1],\n",
       "                                        'forest__min_samples_split': range(4, 7),\n",
       "                                        'forest__n_estimators': range(90, 100)},\n",
       "                   pre_dispatch='2*n_jobs', random_state=123, refit=True,\n",
       "                   return_train_score=False, scoring='accuracy', verbose=2)"
      ]
     },
     "execution_count": 131,
     "metadata": {},
     "output_type": "execute_result"
    }
   ],
   "source": [
    "hyper_search = RandomizedSearchCV(mypipeline, param_grid_base, n_iter=30, scoring='accuracy', \n",
    "                                  cv=cv, n_jobs=-1, refit=True, random_state=123,\n",
    "                                  verbose=2)\n",
    "hyper_search.fit(X_tr, y_train)"
   ]
  },
  {
   "cell_type": "code",
   "execution_count": 132,
   "metadata": {},
   "outputs": [
    {
     "data": {
      "text/plain": [
       "{'forest__n_estimators': 94,\n",
       " 'forest__min_samples_split': 5,\n",
       " 'forest__min_samples_leaf': 1,\n",
       " 'forest__max_features': 20,\n",
       " 'forest__max_depth': 30}"
      ]
     },
     "execution_count": 132,
     "metadata": {},
     "output_type": "execute_result"
    }
   ],
   "source": [
    "hyper_search.best_params_"
   ]
  },
  {
   "cell_type": "code",
   "execution_count": 133,
   "metadata": {},
   "outputs": [
    {
     "data": {
      "text/plain": [
       "0.813989898989899"
      ]
     },
     "execution_count": 133,
     "metadata": {},
     "output_type": "execute_result"
    }
   ],
   "source": [
    "hyper_search.best_score_"
   ]
  },
  {
   "cell_type": "code",
   "execution_count": 135,
   "metadata": {},
   "outputs": [],
   "source": [
    "best_model_rf = hyper_search.best_estimator_"
   ]
  },
  {
   "cell_type": "markdown",
   "metadata": {},
   "source": [
    "# 1 Level: KNN "
   ]
  },
  {
   "cell_type": "markdown",
   "metadata": {},
   "source": [
    "Следующая модель: KNN"
   ]
  },
  {
   "cell_type": "code",
   "execution_count": 305,
   "metadata": {},
   "outputs": [],
   "source": [
    "mypipeknn = Pipeline([\n",
    "    ('scaler', StandardScaler()),\n",
    "    ('knn', KNeighborsClassifier())\n",
    "])"
   ]
  },
  {
   "cell_type": "code",
   "execution_count": 316,
   "metadata": {},
   "outputs": [],
   "source": [
    "paramknn = {\n",
    "    'knn__n_neighbors': range(18, 26, 1),\n",
    "    'knn__weights': ['uniform', 'distance'],\n",
    "    'knn__metric': ['minkowski', 'euclidean', 'chebyshev', 'manhattan', 'canberra'],\n",
    "    'knn__algorithm': ['auto', 'ball_tree', 'kd_tree', 'brute'],\n",
    "}"
   ]
  },
  {
   "cell_type": "code",
   "execution_count": 317,
   "metadata": {
    "scrolled": true
   },
   "outputs": [
    {
     "name": "stdout",
     "output_type": "stream",
     "text": [
      "Fitting 5 folds for each of 10 candidates, totalling 50 fits\n"
     ]
    },
    {
     "name": "stderr",
     "output_type": "stream",
     "text": [
      "[Parallel(n_jobs=3)]: Using backend LokyBackend with 3 concurrent workers.\n",
      "[Parallel(n_jobs=3)]: Done  35 tasks      | elapsed: 57.5min\n",
      "[Parallel(n_jobs=3)]: Done  50 out of  50 | elapsed: 85.0min finished\n"
     ]
    },
    {
     "data": {
      "text/plain": [
       "RandomizedSearchCV(cv=StratifiedKFold(n_splits=5, random_state=123, shuffle=True),\n",
       "                   error_score='raise-deprecating',\n",
       "                   estimator=Pipeline(memory=None,\n",
       "                                      steps=[('scaler',\n",
       "                                              StandardScaler(copy=True,\n",
       "                                                             with_mean=True,\n",
       "                                                             with_std=True)),\n",
       "                                             ('knn',\n",
       "                                              KNeighborsClassifier(algorithm='auto',\n",
       "                                                                   leaf_size=30,\n",
       "                                                                   metric='minkowski',\n",
       "                                                                   metric_params=None,\n",
       "                                                                   n_jobs=None,\n",
       "                                                                   n_neighbors=5,\n",
       "                                                                   p=2,\n",
       "                                                                   weights=...\n",
       "                   iid='warn', n_iter=10, n_jobs=3,\n",
       "                   param_distributions={'knn__algorithm': ['auto', 'ball_tree',\n",
       "                                                           'kd_tree', 'brute'],\n",
       "                                        'knn__metric': ['minkowski',\n",
       "                                                        'euclidean',\n",
       "                                                        'chebyshev',\n",
       "                                                        'manhattan',\n",
       "                                                        'canberra'],\n",
       "                                        'knn__n_neighbors': range(18, 26),\n",
       "                                        'knn__weights': ['uniform',\n",
       "                                                         'distance']},\n",
       "                   pre_dispatch='2*n_jobs', random_state=123, refit=True,\n",
       "                   return_train_score=False, scoring='accuracy', verbose=2)"
      ]
     },
     "execution_count": 317,
     "metadata": {},
     "output_type": "execute_result"
    }
   ],
   "source": [
    "hyper_search = RandomizedSearchCV(mypipeknn, paramknn, n_iter=10, scoring='accuracy', \n",
    "                                  cv=cv, n_jobs=3, refit=True, random_state=123,\n",
    "                                  verbose=2)\n",
    "hyper_search.fit(X_tr, y_TR)"
   ]
  },
  {
   "cell_type": "code",
   "execution_count": 318,
   "metadata": {},
   "outputs": [
    {
     "data": {
      "text/plain": [
       "{'knn__weights': 'distance',\n",
       " 'knn__n_neighbors': 20,\n",
       " 'knn__metric': 'canberra',\n",
       " 'knn__algorithm': 'brute'}"
      ]
     },
     "execution_count": 318,
     "metadata": {},
     "output_type": "execute_result"
    }
   ],
   "source": [
    "hyper_search.best_params_"
   ]
  },
  {
   "cell_type": "code",
   "execution_count": 319,
   "metadata": {},
   "outputs": [
    {
     "data": {
      "text/plain": [
       "0.7912289562289563"
      ]
     },
     "execution_count": 319,
     "metadata": {},
     "output_type": "execute_result"
    }
   ],
   "source": [
    "hyper_search.best_score_"
   ]
  },
  {
   "cell_type": "code",
   "execution_count": 330,
   "metadata": {},
   "outputs": [],
   "source": [
    "paramknn2 = {\n",
    "    'knn__n_neighbors': range(16, 23, 1),\n",
    "    'knn__weights': ['distance'],\n",
    "    'knn__metric': ['canberra'],\n",
    "    'knn__algorithm': ['auto'],\n",
    "}"
   ]
  },
  {
   "cell_type": "code",
   "execution_count": 331,
   "metadata": {
    "scrolled": true
   },
   "outputs": [
    {
     "name": "stdout",
     "output_type": "stream",
     "text": [
      "Fitting 5 folds for each of 5 candidates, totalling 25 fits\n"
     ]
    },
    {
     "name": "stderr",
     "output_type": "stream",
     "text": [
      "[Parallel(n_jobs=3)]: Using backend LokyBackend with 3 concurrent workers.\n",
      "[Parallel(n_jobs=3)]: Done  25 out of  25 | elapsed: 102.1min finished\n"
     ]
    },
    {
     "data": {
      "text/plain": [
       "RandomizedSearchCV(cv=StratifiedKFold(n_splits=5, random_state=123, shuffle=True),\n",
       "                   error_score='raise-deprecating',\n",
       "                   estimator=Pipeline(memory=None,\n",
       "                                      steps=[('scaler',\n",
       "                                              StandardScaler(copy=True,\n",
       "                                                             with_mean=True,\n",
       "                                                             with_std=True)),\n",
       "                                             ('knn',\n",
       "                                              KNeighborsClassifier(algorithm='auto',\n",
       "                                                                   leaf_size=30,\n",
       "                                                                   metric='minkowski',\n",
       "                                                                   metric_params=None,\n",
       "                                                                   n_jobs=None,\n",
       "                                                                   n_neighbors=5,\n",
       "                                                                   p=2,\n",
       "                                                                   weights='uniform'))],\n",
       "                                      verbose=False),\n",
       "                   iid='warn', n_iter=5, n_jobs=3,\n",
       "                   param_distributions={'knn__algorithm': ['auto'],\n",
       "                                        'knn__metric': ['canberra'],\n",
       "                                        'knn__n_neighbors': range(16, 23),\n",
       "                                        'knn__weights': ['distance']},\n",
       "                   pre_dispatch='2*n_jobs', random_state=123, refit=True,\n",
       "                   return_train_score=False, scoring='accuracy', verbose=2)"
      ]
     },
     "execution_count": 331,
     "metadata": {},
     "output_type": "execute_result"
    }
   ],
   "source": [
    "hyper_search = RandomizedSearchCV(mypipeknn, paramknn2, n_iter=5, scoring='accuracy', \n",
    "                                  cv=cv, n_jobs=3, refit=True, random_state=123,\n",
    "                                  verbose=2)\n",
    "hyper_search.fit(X_tr, y_TR)"
   ]
  },
  {
   "cell_type": "code",
   "execution_count": 334,
   "metadata": {},
   "outputs": [
    {
     "data": {
      "text/plain": [
       "{'knn__weights': 'distance',\n",
       " 'knn__n_neighbors': 17,\n",
       " 'knn__metric': 'canberra',\n",
       " 'knn__algorithm': 'auto'}"
      ]
     },
     "execution_count": 334,
     "metadata": {},
     "output_type": "execute_result"
    }
   ],
   "source": [
    "hyper_search.best_params_"
   ]
  },
  {
   "cell_type": "code",
   "execution_count": 335,
   "metadata": {},
   "outputs": [
    {
     "data": {
      "text/plain": [
       "0.791952861952862"
      ]
     },
     "execution_count": 335,
     "metadata": {},
     "output_type": "execute_result"
    }
   ],
   "source": [
    "hyper_search.best_score_"
   ]
  },
  {
   "cell_type": "code",
   "execution_count": 336,
   "metadata": {},
   "outputs": [],
   "source": [
    "best_model_knn = hyper_search.best_estimator_ # 0.8006"
   ]
  },
  {
   "cell_type": "markdown",
   "metadata": {},
   "source": [
    "Далее воспользуемся библиотекой `vecstack` для создания многоуровневой модели. Используя ответы разных моделей как фичи, мы можем повысить качество классификации."
   ]
  },
  {
   "cell_type": "markdown",
   "metadata": {},
   "source": [
    "# Stacking"
   ]
  },
  {
   "cell_type": "code",
   "execution_count": 538,
   "metadata": {},
   "outputs": [],
   "source": [
    "X_test = test[test.columns[1:]]\n",
    "X_te = X_test[imp_feat]"
   ]
  },
  {
   "cell_type": "code",
   "execution_count": 337,
   "metadata": {},
   "outputs": [],
   "source": [
    "models = [\n",
    "    best_model_rf,\n",
    "    best_model_xgb,\n",
    "    best_model_knn,\n",
    "]"
   ]
  },
  {
   "cell_type": "code",
   "execution_count": 345,
   "metadata": {
    "scrolled": true
   },
   "outputs": [
    {
     "name": "stdout",
     "output_type": "stream",
     "text": [
      "task:         [classification]\n",
      "n_classes:    [3]\n",
      "metric:       [accuracy_score]\n",
      "mode:         [oof_pred_bag]\n",
      "n_models:     [3]\n",
      "\n",
      "model  0:     [Pipeline]\n",
      "    fold  0:  [0.81634543]\n",
      "    fold  1:  [0.81567208]\n",
      "    fold  2:  [0.81254209]\n",
      "    fold  3:  [0.81161616]\n",
      "    fold  4:  [0.80897457]\n",
      "    ----\n",
      "    MEAN:     [0.81303007] + [0.00270762]\n",
      "    FULL:     [0.81303030]\n",
      "\n",
      "model  1:     [Pipeline]\n",
      "    fold  0:  [0.82240552]\n",
      "    fold  1:  [0.81701877]\n",
      "    fold  2:  [0.81582492]\n",
      "    fold  3:  [0.81144781]\n",
      "    fold  4:  [0.80889039]\n",
      "    ----\n",
      "    MEAN:     [0.81511748] + [0.00467919]\n",
      "    FULL:     [0.81511785]\n",
      "\n",
      "model  2:     [Pipeline]\n",
      "    fold  0:  [0.79648178]\n",
      "    fold  1:  [0.79395674]\n",
      "    fold  2:  [0.79132997]\n",
      "    fold  3:  [0.79065657]\n",
      "    fold  4:  [0.78733794]\n",
      "    ----\n",
      "    MEAN:     [0.79195260] + [0.00309492]\n",
      "    FULL:     [0.79195286]\n",
      "\n"
     ]
    }
   ],
   "source": [
    "S_train, S_test = stacking(models,                     # list of models\n",
    "                           X_tr, y_TR, X_te,   # data\n",
    "                           regression=False,           # classification task (if you need \n",
    "                                                       #     regression - set to True)\n",
    "                           mode='oof_pred_bag',        # mode: oof for train set, predict test \n",
    "                                                       #     set in each fold and vote\n",
    "                           needs_proba=False,          # predict class labels (if you need \n",
    "                                                       #     probabilities - set to True) \n",
    "                           save_dir=None,              # do not save result and log (to save \n",
    "                                                       #     in current dir - set to '.')\n",
    "                           metric=accuracy_score,      # metric: callable\n",
    "                           n_folds=5,                  # number of folds\n",
    "                           stratified=True,            # stratified split for folds\n",
    "                           shuffle=True,               # shuffle the data\n",
    "                           random_state=123,             # ensure reproducibility\n",
    "                           verbose=2)                  # print all info"
   ]
  },
  {
   "cell_type": "code",
   "execution_count": 548,
   "metadata": {
    "scrolled": true
   },
   "outputs": [],
   "source": [
    "TRAIN = X_tr.copy()\n",
    "TRAIN['rf'] = S_train[:, 0]\n",
    "TRAIN['xgb'] = S_train[:, 1]\n",
    "TRAIN['knn'] = S_train[:, 2]\n",
    "\n",
    "TEST = X_te.copy()\n",
    "TEST['rf'] = S_test[:, 0]\n",
    "TEST['xgb'] = S_test[:, 1]\n",
    "TEST['knn'] = S_test[:, 2]"
   ]
  },
  {
   "cell_type": "markdown",
   "metadata": {},
   "source": [
    "На данном этапе мы имеем ответы всех трёх моделей, которые находятся в `S_train` и `S_test`."
   ]
  },
  {
   "cell_type": "markdown",
   "metadata": {},
   "source": [
    "# 2 Level: Random Forest"
   ]
  },
  {
   "cell_type": "markdown",
   "metadata": {},
   "source": [
    "![texte](model.jpg)"
   ]
  },
  {
   "cell_type": "markdown",
   "metadata": {},
   "source": [
    "Обучим случайный лес на ответах предыдущих трёх моделей и на нашем признаковом пространстве. Найдём наилучшие параметры."
   ]
  },
  {
   "cell_type": "code",
   "execution_count": 589,
   "metadata": {},
   "outputs": [],
   "source": [
    "mypipeline = Pipeline([\n",
    "    ('scaler', StandardScaler()),\n",
    "    ('forest', RandomForestClassifier())\n",
    "])"
   ]
  },
  {
   "cell_type": "code",
   "execution_count": 590,
   "metadata": {},
   "outputs": [],
   "source": [
    "param_grid_base = {\n",
    "              'forest__n_estimators': range(80, 120, 2),\n",
    "              'forest__min_samples_split': range(3, 7),\n",
    "              'forest__min_samples_leaf': [1, 2, 3],\n",
    "              'forest__max_features': range(13, 28),\n",
    "              'forest__max_depth': range(20, 40) }"
   ]
  },
  {
   "cell_type": "code",
   "execution_count": 591,
   "metadata": {
    "scrolled": true
   },
   "outputs": [
    {
     "name": "stdout",
     "output_type": "stream",
     "text": [
      "Fitting 5 folds for each of 10 candidates, totalling 50 fits\n"
     ]
    },
    {
     "name": "stderr",
     "output_type": "stream",
     "text": [
      "[Parallel(n_jobs=-1)]: Using backend LokyBackend with 4 concurrent workers.\n",
      "[Parallel(n_jobs=-1)]: Done  33 tasks      | elapsed:  4.0min\n",
      "[Parallel(n_jobs=-1)]: Done  50 out of  50 | elapsed:  5.5min finished\n"
     ]
    },
    {
     "data": {
      "text/plain": [
       "RandomizedSearchCV(cv=StratifiedKFold(n_splits=5, random_state=123, shuffle=True),\n",
       "                   error_score='raise-deprecating',\n",
       "                   estimator=Pipeline(memory=None,\n",
       "                                      steps=[('scaler',\n",
       "                                              StandardScaler(copy=True,\n",
       "                                                             with_mean=True,\n",
       "                                                             with_std=True)),\n",
       "                                             ('forest',\n",
       "                                              RandomForestClassifier(bootstrap=True,\n",
       "                                                                     class_weight=None,\n",
       "                                                                     criterion='gini',\n",
       "                                                                     max_depth=None,\n",
       "                                                                     max_features='auto',\n",
       "                                                                     max_leaf_nodes=N...\n",
       "                                      verbose=False),\n",
       "                   iid='warn', n_iter=10, n_jobs=-1,\n",
       "                   param_distributions={'forest__max_depth': range(20, 40),\n",
       "                                        'forest__max_features': range(13, 28),\n",
       "                                        'forest__min_samples_leaf': [1, 2, 3],\n",
       "                                        'forest__min_samples_split': range(3, 7),\n",
       "                                        'forest__n_estimators': range(80, 120, 2)},\n",
       "                   pre_dispatch='2*n_jobs', random_state=123, refit=True,\n",
       "                   return_train_score=False, scoring='accuracy', verbose=2)"
      ]
     },
     "execution_count": 591,
     "metadata": {},
     "output_type": "execute_result"
    }
   ],
   "source": [
    "hyper_search = RandomizedSearchCV(mypipeline, param_grid_base, n_iter=10, scoring='accuracy', \n",
    "                                  cv=cv, n_jobs=-1, refit=True, random_state=123,\n",
    "                                  verbose=2)\n",
    "hyper_search.fit(TRAIN, y_TR)"
   ]
  },
  {
   "cell_type": "code",
   "execution_count": 592,
   "metadata": {},
   "outputs": [
    {
     "data": {
      "text/plain": [
       "{'forest__n_estimators': 114,\n",
       " 'forest__min_samples_split': 3,\n",
       " 'forest__min_samples_leaf': 1,\n",
       " 'forest__max_features': 17,\n",
       " 'forest__max_depth': 24}"
      ]
     },
     "execution_count": 592,
     "metadata": {},
     "output_type": "execute_result"
    }
   ],
   "source": [
    "hyper_search.best_params_"
   ]
  },
  {
   "cell_type": "code",
   "execution_count": 593,
   "metadata": {},
   "outputs": [
    {
     "data": {
      "text/plain": [
       "0.8204040404040404"
      ]
     },
     "execution_count": 593,
     "metadata": {},
     "output_type": "execute_result"
    }
   ],
   "source": [
    "hyper_search.best_score_  "
   ]
  },
  {
   "cell_type": "code",
   "execution_count": 594,
   "metadata": {},
   "outputs": [],
   "source": [
    "best_model_stack_rf = hyper_search.best_estimator_ "
   ]
  },
  {
   "cell_type": "markdown",
   "metadata": {},
   "source": [
    "# Predictions"
   ]
  },
  {
   "cell_type": "markdown",
   "metadata": {},
   "source": [
    "Записываем прогнозы модели в `.csv` файл и проверяем на тесте:"
   ]
  },
  {
   "cell_type": "code",
   "execution_count": 729,
   "metadata": {},
   "outputs": [],
   "source": [
    "y_hat = best_model_stack_rf.predict(TEST)\n",
    "y_pred = le.inverse_transform(y_hat)\n",
    "data = pd.DataFrame(zip(test['id'], y_pred), \n",
    "                    columns = ['id', 'status_group']).to_csv('final_prediction.csv',\n",
    "                                                                  sep=',',\n",
    "                                                                  index=False)"
   ]
  },
  {
   "cell_type": "markdown",
   "metadata": {},
   "source": [
    "# Rank"
   ]
  },
  {
   "cell_type": "markdown",
   "metadata": {},
   "source": [
    "![texte](rate.jpg)"
   ]
  },
  {
   "cell_type": "markdown",
   "metadata": {},
   "source": [
    "---"
   ]
  }
 ],
 "metadata": {
  "kernelspec": {
   "display_name": "Python 3",
   "language": "python",
   "name": "python3"
  },
  "language_info": {
   "codemirror_mode": {
    "name": "ipython",
    "version": 3
   },
   "file_extension": ".py",
   "mimetype": "text/x-python",
   "name": "python",
   "nbconvert_exporter": "python",
   "pygments_lexer": "ipython3",
   "version": "3.7.4"
  }
 },
 "nbformat": 4,
 "nbformat_minor": 4
}
